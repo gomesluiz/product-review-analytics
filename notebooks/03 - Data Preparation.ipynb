{
 "cells": [
  {
   "cell_type": "markdown",
   "metadata": {},
   "source": [
    "# Data Preparation"
   ]
  },
  {
   "cell_type": "code",
   "execution_count": 8,
   "metadata": {},
   "outputs": [
    {
     "name": "stdout",
     "output_type": "stream",
     "text": [
      "Required packages installed.\n"
     ]
    },
    {
     "name": "stderr",
     "output_type": "stream",
     "text": [
      "[nltk_data] Downloading package stopwords to /home/vscode/nltk_data...\n",
      "[nltk_data]   Package stopwords is already up-to-date!\n"
     ]
    }
   ],
   "source": [
    "import re\n",
    "import string\n",
    "\n",
    "import matplotlib.pyplot as plt\n",
    "import nltk\n",
    "import numpy as np\n",
    "import pandas as pd\n",
    "\n",
    "from gensim.models import KeyedVectors\n",
    "from sklearn.feature_extraction.text import CountVectorizer, TfidfVectorizer\n",
    "from sklearn.model_selection import train_test_split \n",
    "\n",
    "nltk.download('stopwords')\n",
    "stopwords = nltk.corpus.stopwords.words('portuguese')\n",
    "\n",
    "RANDOM_SEED = 19730115\n",
    "rng = np.random.RandomState(RANDOM_SEED)\n",
    "\n",
    "print(\"Required packages installed.\")"
   ]
  },
  {
   "cell_type": "code",
   "execution_count": 9,
   "metadata": {},
   "outputs": [],
   "source": [
    "def load_dataset(path):\n",
    "    \"\"\"Get the data from csv file\n",
    "    \n",
    "    Args:\n",
    "        path(str): the file complete path. \n",
    "\n",
    "    Returns:\n",
    "        A pandas dataframe.\n",
    "    \"\"\"\n",
    "\n",
    "    return pd.read_csv(path)\n",
    "\n",
    "\n",
    "def clean_text(text):\n",
    "    \"\"\" Make text lowercase, remove text in square brackets, remove punctuation and \n",
    "        remove words containing numbers.\n",
    "    \n",
    "    Args:\n",
    "        text(str): string text to be cleaned.\n",
    "\n",
    "    Returns:\n",
    "        A cleaned text\n",
    "\n",
    "    \"\"\"\n",
    "\n",
    "    text = text.lower()\n",
    "    text = re.sub('\\[.*?\\]', '', text)\n",
    "    text = re.sub('[%s]' % re.escape(string.punctuation), '', text)\n",
    "    text = re.sub('\\w*\\d\\w*', '', text)\n",
    "    text = re.sub('[``\"\"...]', '', text)\n",
    "    text = re.sub('\\n', ' ', text)\n",
    "\n",
    "    return text"
   ]
  },
  {
   "cell_type": "code",
   "execution_count": 10,
   "metadata": {},
   "outputs": [
    {
     "data": {
      "text/html": [
       "<div>\n",
       "<style scoped>\n",
       "    .dataframe tbody tr th:only-of-type {\n",
       "        vertical-align: middle;\n",
       "    }\n",
       "\n",
       "    .dataframe tbody tr th {\n",
       "        vertical-align: top;\n",
       "    }\n",
       "\n",
       "    .dataframe thead th {\n",
       "        text-align: right;\n",
       "    }\n",
       "</style>\n",
       "<table border=\"1\" class=\"dataframe\">\n",
       "  <thead>\n",
       "    <tr style=\"text-align: right;\">\n",
       "      <th></th>\n",
       "      <th>original_index</th>\n",
       "      <th>review_text</th>\n",
       "      <th>review_text_cleaned</th>\n",
       "      <th>review_text_cleaned_len</th>\n",
       "      <th>review_text_cleaned_no_stopwords</th>\n",
       "      <th>review_text_cleaned_len_no_stopwords</th>\n",
       "      <th>polarity</th>\n",
       "    </tr>\n",
       "  </thead>\n",
       "  <tbody>\n",
       "    <tr>\n",
       "      <th>0</th>\n",
       "      <td>4_55516</td>\n",
       "      <td>Estou muito satisfeito, o visor é melhor do qu...</td>\n",
       "      <td>estou muito satisfeito o visor é melhor do que...</td>\n",
       "      <td>45</td>\n",
       "      <td>satisfeito visor melhor imaginava boas imagens...</td>\n",
       "      <td>25</td>\n",
       "      <td>1</td>\n",
       "    </tr>\n",
       "    <tr>\n",
       "      <th>1</th>\n",
       "      <td>minus_1_105339</td>\n",
       "      <td>\"muito boa\\n\\nO que gostei: preco\\n\\nO que não...</td>\n",
       "      <td>muito boa  o que gostei preco  o que não goste...</td>\n",
       "      <td>12</td>\n",
       "      <td>boa gostei preco gostei poderia</td>\n",
       "      <td>5</td>\n",
       "      <td>1</td>\n",
       "    </tr>\n",
       "    <tr>\n",
       "      <th>2</th>\n",
       "      <td>23_382139</td>\n",
       "      <td>Rápida, ótima qualidade de impressão e fácil d...</td>\n",
       "      <td>rápida ótima qualidade de impressão e fácil de...</td>\n",
       "      <td>37</td>\n",
       "      <td>rápida ótima qualidade impressão fácil usar pr...</td>\n",
       "      <td>22</td>\n",
       "      <td>1</td>\n",
       "    </tr>\n",
       "    <tr>\n",
       "      <th>3</th>\n",
       "      <td>2_446456</td>\n",
       "      <td>Produto de ótima qualidade em todos os quesito!</td>\n",
       "      <td>produto de ótima qualidade em todos os quesito</td>\n",
       "      <td>8</td>\n",
       "      <td>produto ótima qualidade todos quesito</td>\n",
       "      <td>5</td>\n",
       "      <td>1</td>\n",
       "    </tr>\n",
       "    <tr>\n",
       "      <th>4</th>\n",
       "      <td>0_11324</td>\n",
       "      <td>Precisava comprar uma tv compatível com meu dv...</td>\n",
       "      <td>precisava comprar uma tv compatível com meu dv...</td>\n",
       "      <td>38</td>\n",
       "      <td>precisava comprar tv compatível dvd esra melho...</td>\n",
       "      <td>17</td>\n",
       "      <td>1</td>\n",
       "    </tr>\n",
       "  </tbody>\n",
       "</table>\n",
       "</div>"
      ],
      "text/plain": [
       "   original_index                                        review_text  \\\n",
       "0         4_55516  Estou muito satisfeito, o visor é melhor do qu...   \n",
       "1  minus_1_105339  \"muito boa\\n\\nO que gostei: preco\\n\\nO que não...   \n",
       "2       23_382139  Rápida, ótima qualidade de impressão e fácil d...   \n",
       "3        2_446456    Produto de ótima qualidade em todos os quesito!   \n",
       "4         0_11324  Precisava comprar uma tv compatível com meu dv...   \n",
       "\n",
       "                                 review_text_cleaned  review_text_cleaned_len  \\\n",
       "0  estou muito satisfeito o visor é melhor do que...                       45   \n",
       "1  muito boa  o que gostei preco  o que não goste...                       12   \n",
       "2  rápida ótima qualidade de impressão e fácil de...                       37   \n",
       "3     produto de ótima qualidade em todos os quesito                        8   \n",
       "4  precisava comprar uma tv compatível com meu dv...                       38   \n",
       "\n",
       "                    review_text_cleaned_no_stopwords  \\\n",
       "0  satisfeito visor melhor imaginava boas imagens...   \n",
       "1                    boa gostei preco gostei poderia   \n",
       "2  rápida ótima qualidade impressão fácil usar pr...   \n",
       "3              produto ótima qualidade todos quesito   \n",
       "4  precisava comprar tv compatível dvd esra melho...   \n",
       "\n",
       "   review_text_cleaned_len_no_stopwords  polarity  \n",
       "0                                    25         1  \n",
       "1                                     5         1  \n",
       "2                                    22         1  \n",
       "3                                     5         1  \n",
       "4                                    17         1  "
      ]
     },
     "execution_count": 10,
     "metadata": {},
     "output_type": "execute_result"
    }
   ],
   "source": [
    "# Load the reviews dataset.\n",
    "reviews = load_dataset('../data/processed/buscape_reviews_full_dataset.csv')\n",
    "\n",
    "# Replace the original polarity to -1 from 0, nan to 0.  \n",
    "reviews_cleaned = reviews.copy() \n",
    "reviews_cleaned['polarity'] = reviews_cleaned['polarity'].replace({0:-1, np.nan: 0})\n",
    "reviews_cleaned['polarity'] = reviews_cleaned['polarity'].astype(int)\n",
    "# \n",
    "reviews_cleaned.dropna(subset=['review_text_cleaned_no_stopwords'], inplace=True)\n",
    "reviews_cleaned.head()"
   ]
  },
  {
   "cell_type": "code",
   "execution_count": 12,
   "metadata": {},
   "outputs": [
    {
     "data": {
      "text/plain": [
       "<AxesSubplot:title={'center':'Polarity Distribution'}>"
      ]
     },
     "execution_count": 12,
     "metadata": {},
     "output_type": "execute_result"
    },
    {
     "data": {
      "image/png": "[encoded data removed]",
      "text/plain": [
       "<Figure size 2000x1000 with 1 Axes>"
      ]
     },
     "metadata": {},
     "output_type": "display_data"
    }
   ],
   "source": [
    "plt.figure(figsize=(20, 10))\n",
    "plt.title('Polarity Distribution')\n",
    "reviews_cleaned['polarity'].value_counts().plot(kind='bar')"
   ]
  },
  {
   "cell_type": "markdown",
   "metadata": {},
   "source": [
    "### Split in train and test datasets"
   ]
  },
  {
   "cell_type": "code",
   "execution_count": 13,
   "metadata": {},
   "outputs": [],
   "source": [
    "reviews_cleaned_train, reviews_cleaned_test = train_test_split(reviews_cleaned, stratify=reviews_cleaned['polarity'], test_size=.20, random_state=rng)"
   ]
  },
  {
   "cell_type": "code",
   "execution_count": 14,
   "metadata": {},
   "outputs": [],
   "source": [
    "reviews_cleaned_train.to_csv(\"../data/processed/buscape_reviews_train_dataset.csv\", index=False)\n",
    "reviews_cleaned_test.to_csv(\"../data/processed/buscape_reviews_test_dataset.csv\", index=False)"
   ]
  }
 ],
 "metadata": {
  "kernelspec": {
   "display_name": "Python 3.9.12 ('base')",
   "language": "python",
   "name": "python3"
  },
  "language_info": {
   "codemirror_mode": {
    "name": "ipython",
    "version": 3
   },
   "file_extension": ".py",
   "mimetype": "text/x-python",
   "name": "python",
   "nbconvert_exporter": "python",
   "pygments_lexer": "ipython3",
   "version": "3.9.13"
  },
  "orig_nbformat": 4,
  "vscode": {
   "interpreter": {
    "hash": "d4d1e4263499bec80672ea0156c357c1ee493ec2b1c70f0acce89fc37c4a6abe"
   }
  }
 },
 "nbformat": 4,
 "nbformat_minor": 2
}
