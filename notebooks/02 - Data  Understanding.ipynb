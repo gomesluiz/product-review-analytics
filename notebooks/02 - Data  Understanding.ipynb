{
 "cells": [
  {
   "cell_type": "markdown",
   "id": "0d30600e",
   "metadata": {},
   "source": [
    "# Exploratory Data Analysis\n",
    "In order to better understanding of the data we will be looking at throughout that project."
   ]
  },
  {
   "cell_type": "code",
   "execution_count": 1,
   "id": "5a351086",
   "metadata": {},
   "outputs": [
    {
     "name": "stdout",
     "output_type": "stream",
     "text": [
      "Packages imported.\n"
     ]
    }
   ],
   "source": [
    "# Required packages.\n",
    "import numpy as np\n",
    "import pandas as pd\n",
    "import matplotlib.pyplot as plt\n",
    "%matplotlib inline\n",
    "\n",
    "print(\"Packages imported.\")\n"
   ]
  },
  {
   "cell_type": "markdown",
   "id": "211a4d11",
   "metadata": {},
   "source": [
    "When we getting started an Exploratory Data Analisys (EDA), we should answer the next questions:\n",
    "\n",
    "1. Look at the number of rows and columns in the dataset. \n",
    "2. Check if there are missing values in any of the rows or columns.\n",
    "3. Check if any columns are of different data types than you would expect(e.g., numbers showing as strings)\n",
    "4. Check that each column is a variable, and each row is an individual.\n",
    "5. Build exploratory plots like bar charts, histograms, and scatterplots to better understand the data."
   ]
  },
  {
   "cell_type": "code",
   "execution_count": 2,
   "id": "be92e6cc",
   "metadata": {},
   "outputs": [],
   "source": [
    "def get_data(file):\n",
    "    \"\"\"Get the data from csv file\n",
    "    \n",
    "    \"\"\"\n",
    "    return pd.read_csv(file)"
   ]
  },
  {
   "cell_type": "code",
   "execution_count": 3,
   "id": "4baa25f9",
   "metadata": {},
   "outputs": [
    {
     "data": {
      "text/html": [
       "<div>\n",
       "<style scoped>\n",
       "    .dataframe tbody tr th:only-of-type {\n",
       "        vertical-align: middle;\n",
       "    }\n",
       "\n",
       "    .dataframe tbody tr th {\n",
       "        vertical-align: top;\n",
       "    }\n",
       "\n",
       "    .dataframe thead th {\n",
       "        text-align: right;\n",
       "    }\n",
       "</style>\n",
       "<table border=\"1\" class=\"dataframe\">\n",
       "  <thead>\n",
       "    <tr style=\"text-align: right;\">\n",
       "      <th></th>\n",
       "      <th>original_index</th>\n",
       "      <th>review_text</th>\n",
       "      <th>review_text_processed</th>\n",
       "      <th>review_text_tokenized</th>\n",
       "      <th>polarity</th>\n",
       "      <th>rating</th>\n",
       "      <th>kfold_polarity</th>\n",
       "      <th>kfold_rating</th>\n",
       "    </tr>\n",
       "  </thead>\n",
       "  <tbody>\n",
       "    <tr>\n",
       "      <th>0</th>\n",
       "      <td>4_55516</td>\n",
       "      <td>Estou muito satisfeito, o visor é melhor do qu...</td>\n",
       "      <td>estou muito satisfeito, o visor e melhor do qu...</td>\n",
       "      <td>['estou', 'muito', 'satisfeito', 'visor', 'mel...</td>\n",
       "      <td>1.0</td>\n",
       "      <td>4</td>\n",
       "      <td>1</td>\n",
       "      <td>1</td>\n",
       "    </tr>\n",
       "    <tr>\n",
       "      <th>1</th>\n",
       "      <td>minus_1_105339</td>\n",
       "      <td>\"muito boa\\n\\nO que gostei: preco\\n\\nO que não...</td>\n",
       "      <td>\"muito boa\\n\\no que gostei: preco\\n\\no que nao...</td>\n",
       "      <td>['muito', 'boa', 'que', 'gostei', 'preco', 'qu...</td>\n",
       "      <td>1.0</td>\n",
       "      <td>5</td>\n",
       "      <td>1</td>\n",
       "      <td>1</td>\n",
       "    </tr>\n",
       "    <tr>\n",
       "      <th>2</th>\n",
       "      <td>23_382139</td>\n",
       "      <td>Rápida, ótima qualidade de impressão e fácil d...</td>\n",
       "      <td>rapida, otima qualidade de impressao e facil d...</td>\n",
       "      <td>['rapida', 'otima', 'qualidade', 'de', 'impres...</td>\n",
       "      <td>1.0</td>\n",
       "      <td>5</td>\n",
       "      <td>1</td>\n",
       "      <td>1</td>\n",
       "    </tr>\n",
       "    <tr>\n",
       "      <th>3</th>\n",
       "      <td>2_446456</td>\n",
       "      <td>Produto de ótima qualidade em todos os quesito!</td>\n",
       "      <td>produto de otima qualidade em todos os quesito!</td>\n",
       "      <td>['produto', 'de', 'otima', 'qualidade', 'em', ...</td>\n",
       "      <td>1.0</td>\n",
       "      <td>5</td>\n",
       "      <td>1</td>\n",
       "      <td>1</td>\n",
       "    </tr>\n",
       "    <tr>\n",
       "      <th>4</th>\n",
       "      <td>0_11324</td>\n",
       "      <td>Precisava comprar uma tv compatível com meu dv...</td>\n",
       "      <td>precisava comprar uma tv compativel com meu dv...</td>\n",
       "      <td>['precisava', 'comprar', 'uma', 'tv', 'compati...</td>\n",
       "      <td>1.0</td>\n",
       "      <td>5</td>\n",
       "      <td>1</td>\n",
       "      <td>1</td>\n",
       "    </tr>\n",
       "  </tbody>\n",
       "</table>\n",
       "</div>"
      ],
      "text/plain": [
       "   original_index                                        review_text  \\\n",
       "0         4_55516  Estou muito satisfeito, o visor é melhor do qu...   \n",
       "1  minus_1_105339  \"muito boa\\n\\nO que gostei: preco\\n\\nO que não...   \n",
       "2       23_382139  Rápida, ótima qualidade de impressão e fácil d...   \n",
       "3        2_446456    Produto de ótima qualidade em todos os quesito!   \n",
       "4         0_11324  Precisava comprar uma tv compatível com meu dv...   \n",
       "\n",
       "                               review_text_processed  \\\n",
       "0  estou muito satisfeito, o visor e melhor do qu...   \n",
       "1  \"muito boa\\n\\no que gostei: preco\\n\\no que nao...   \n",
       "2  rapida, otima qualidade de impressao e facil d...   \n",
       "3    produto de otima qualidade em todos os quesito!   \n",
       "4  precisava comprar uma tv compativel com meu dv...   \n",
       "\n",
       "                               review_text_tokenized  polarity  rating  \\\n",
       "0  ['estou', 'muito', 'satisfeito', 'visor', 'mel...       1.0       4   \n",
       "1  ['muito', 'boa', 'que', 'gostei', 'preco', 'qu...       1.0       5   \n",
       "2  ['rapida', 'otima', 'qualidade', 'de', 'impres...       1.0       5   \n",
       "3  ['produto', 'de', 'otima', 'qualidade', 'em', ...       1.0       5   \n",
       "4  ['precisava', 'comprar', 'uma', 'tv', 'compati...       1.0       5   \n",
       "\n",
       "   kfold_polarity  kfold_rating  \n",
       "0               1             1  \n",
       "1               1             1  \n",
       "2               1             1  \n",
       "3               1             1  \n",
       "4               1             1  "
      ]
     },
     "execution_count": 3,
     "metadata": {},
     "output_type": "execute_result"
    }
   ],
   "source": [
    "df = get_data('../data/raw/buscape.csv')\n",
    "df.head()"
   ]
  },
  {
   "cell_type": "markdown",
   "id": "d47e17e3",
   "metadata": {},
   "source": [
    "### Question 1.\n",
    "How many rows and columns the dataset has?"
   ]
  },
  {
   "cell_type": "code",
   "execution_count": 6,
   "id": "6c9313f6",
   "metadata": {},
   "outputs": [
    {
     "name": "stdout",
     "output_type": "stream",
     "text": [
      "The dataset has 84991 rows and 8 columns.\n"
     ]
    }
   ],
   "source": [
    "num_rows = df.shape[0]\n",
    "num_cols = df.shape[1]\n",
    "print(f\"The dataset has {num_rows} rows and {num_cols} columns.\")"
   ]
  },
  {
   "cell_type": "markdown",
   "id": "f7adff7c",
   "metadata": {},
   "source": [
    "### Question 2.\n",
    "1. Which columns had missing values?"
   ]
  },
  {
   "cell_type": "code",
   "execution_count": 7,
   "id": "11b90e48",
   "metadata": {},
   "outputs": [
    {
     "name": "stdout",
     "output_type": "stream",
     "text": [
      "{'polarity', 'review_text', 'review_text_processed'}\n"
     ]
    }
   ],
   "source": [
    "missing_cols = set(df.columns[df.isnull().sum() != 0])\n",
    "print(missing_cols)"
   ]
  },
  {
   "cell_type": "markdown",
   "id": "5af8cc48",
   "metadata": {},
   "source": [
    "2. Which columns have more than 20% of missing values?"
   ]
  },
  {
   "cell_type": "code",
   "execution_count": 8,
   "id": "a6cfc452",
   "metadata": {},
   "outputs": [
    {
     "name": "stdout",
     "output_type": "stream",
     "text": [
      "set()\n"
     ]
    }
   ],
   "source": [
    "most_missing_cols = set(df.columns[df.isnull().mean() > 0.20])\n",
    "print(most_missing_cols)"
   ]
  },
  {
   "cell_type": "markdown",
   "id": "09bbec01",
   "metadata": {},
   "source": [
    "### Question 3.\n",
    "Check if any columns are of different data types than you would expect(e.g., numbers showing as strings)\n"
   ]
  },
  {
   "cell_type": "code",
   "execution_count": 9,
   "id": "d3579550",
   "metadata": {},
   "outputs": [
    {
     "name": "stdout",
     "output_type": "stream",
     "text": [
      "<class 'pandas.core.frame.DataFrame'>\n",
      "RangeIndex: 84991 entries, 0 to 84990\n",
      "Data columns (total 8 columns):\n",
      " #   Column                 Non-Null Count  Dtype  \n",
      "---  ------                 --------------  -----  \n",
      " 0   original_index         84991 non-null  object \n",
      " 1   review_text            84990 non-null  object \n",
      " 2   review_text_processed  84990 non-null  object \n",
      " 3   review_text_tokenized  84991 non-null  object \n",
      " 4   polarity               73627 non-null  float64\n",
      " 5   rating                 84991 non-null  int64  \n",
      " 6   kfold_polarity         84991 non-null  int64  \n",
      " 7   kfold_rating           84991 non-null  int64  \n",
      "dtypes: float64(1), int64(3), object(4)\n",
      "memory usage: 5.2+ MB\n"
     ]
    }
   ],
   "source": [
    "df.info()"
   ]
  },
  {
   "cell_type": "code",
   "execution_count": 10,
   "id": "982ea26c",
   "metadata": {},
   "outputs": [
    {
     "data": {
      "text/plain": [
       "<AxesSubplot:>"
      ]
     },
     "execution_count": 10,
     "metadata": {},
     "output_type": "execute_result"
    },
    {
     "data": {
      "image/png": "[encoded data removed]",
      "text/plain": [
       "<Figure size 2000x1000 with 1 Axes>"
      ]
     },
     "metadata": {},
     "output_type": "display_data"
    }
   ],
   "source": [
    "plt.figure(figsize=(20, 10))\n",
    "polarity_counts = df['polarity'].value_counts()\n",
    "polarity_counts.plot(kind=\"bar\")"
   ]
  },
  {
   "cell_type": "markdown",
   "id": "125823fb",
   "metadata": {},
   "source": [
    "### Question 4.\n",
    "Text statistics on **review_text**."
   ]
  },
  {
   "cell_type": "code",
   "execution_count": 61,
   "id": "207969de",
   "metadata": {},
   "outputs": [
    {
     "name": "stdout",
     "output_type": "stream",
     "text": [
      "Mode of review tokens quantity: 366\n"
     ]
    }
   ],
   "source": [
    "lens = df['review_text_tokenized'].apply(len).values\n",
    "vals, counts = np.unique(lens, return_counts=True)\n",
    "mode = np.argwhere(counts == np.max(counts))[0][0]\n",
    "print(f\"Mode of review tokens quantity: {mode_value}\")"
   ]
  },
  {
   "cell_type": "code",
   "execution_count": 73,
   "id": "b9b7ca0c",
   "metadata": {},
   "outputs": [
    {
     "data": {
      "image/png": "[encoded data removed]",
      "text/plain": [
       "<Figure size 640x480 with 1 Axes>"
      ]
     },
     "metadata": {},
     "output_type": "display_data"
    }
   ],
   "source": [
    "plt.title('Histogram of Words Quantity Reviews')\n",
    "plt.xlabel('Lengths')\n",
    "plt.ylabel('Quantity of Reviews')\n",
    "plt.text(1000, 50000, rf\"$\\mu={int(np.mean(lens))},\\ \\sigma={int(np.std(lens))}, median={int(np.median(lens))}, mode={mode} $\")\n",
    "plt.xlim(0, 3000)\n",
    "plt.ylim(0, 70000) \n",
    "\n",
    "_ = plt.hist(lens, 10)\n",
    "\n",
    "#plt.grid(True)\n",
    "plt.show()"
   ]
  }
 ],
 "metadata": {
  "kernelspec": {
   "display_name": "Python 3.9.12 ('base')",
   "language": "python",
   "name": "python3"
  },
  "language_info": {
   "codemirror_mode": {
    "name": "ipython",
    "version": 3
   },
   "file_extension": ".py",
   "mimetype": "text/x-python",
   "name": "python",
   "nbconvert_exporter": "python",
   "pygments_lexer": "ipython3",
   "version": "3.9.13"
  },
  "vscode": {
   "interpreter": {
    "hash": "d4d1e4263499bec80672ea0156c357c1ee493ec2b1c70f0acce89fc37c4a6abe"
   }
  }
 },
 "nbformat": 4,
 "nbformat_minor": 5
}
