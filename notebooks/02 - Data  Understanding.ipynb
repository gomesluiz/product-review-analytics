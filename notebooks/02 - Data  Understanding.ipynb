{
<<<<<<< HEAD
 "cells": [
  {
   "cell_type": "markdown",
   "id": "0d30600e",
   "metadata": {},
   "source": [
    "# Exploratory Data Analysis\n",
    "In order to better understanding of the data we will be looking at throughout that project."
   ]
  },
  {
   "cell_type": "markdown",
   "id": "211a4d11",
   "metadata": {},
   "source": [
    "When we getting started an Exploratory Data Analisys (EDA), we should answer the next questions:\n",
    "\n",
    "1. Look at the number of rows and columns in the dataset. \n",
    "2. Check if there are missing values in any of the rows or columns.\n",
    "3. Check if any columns are of different data types than you would expect(e.g., numbers showing as strings)\n",
    "4. Check that each column is a variable, and each row is an individual.\n",
    "5. Build exploratory plots like bar charts, histograms, and scatterplots to better understand the data."
   ]
  },
  {
   "cell_type": "code",
   "execution_count": 33,
   "id": "5a351086",
   "metadata": {},
   "outputs": [
    {
     "name": "stderr",
     "output_type": "stream",
     "text": [
      "[nltk_data] Downloading package stopwords to\n",
      "[nltk_data]     /home/gomesluiz/nltk_data...\n",
      "[nltk_data]   Package stopwords is already up-to-date!\n",
      "2022-12-01 00:22:32,495 - root - INFO - Required packages installed.\n"
     ]
    }
   ],
   "source": [
    "import os\n",
    "import re\n",
    "import logging\n",
    "import string\n",
    "\n",
    "import nltk\n",
    "import numpy as np\n",
    "import matplotlib.pyplot as plt\n",
    "import pandas as pd\n",
    "\n",
    "from collections import Counter\n",
    "from nltk import word_tokenize\n",
    "\n",
    "nltk.download('stopwords')\n",
    "stopwords = nltk.corpus.stopwords.words('portuguese')\n",
    "\n",
    "%matplotlib inline\n",
    "\n",
    "# logging configuration.\n",
    "log_fmt = '%(asctime)s - %(name)s - %(levelname)s - %(message)s'\n",
    "logging.basicConfig(level=logging.INFO, format=log_fmt)\n",
    "logging.info(\"Required packages installed.\")"
   ]
  },
  {
   "cell_type": "code",
   "execution_count": 34,
   "id": "2e082563",
   "metadata": {},
   "outputs": [],
   "source": [
    "# notebook constants.\n",
    "URL_PATH_FILE=\"https://raw.githubusercontent.com/gomesluiz/product-review-analytics/main/data/raw/buscape.csv?token=GHSAT0AAAAAAB2WPKBH6RP2KMF2C3TS3V6CY4IE62Q\""
   ]
  },
  {
   "cell_type": "code",
   "execution_count": 35,
   "id": "0d27f4fb",
   "metadata": {},
   "outputs": [],
   "source": [
    "def get_data(file):\n",
    "    \"\"\"Get the data from csv file\n",
    "    \n",
    "    \"\"\"\n",
    "    return pd.read_csv(file)"
   ]
  },
  {
   "cell_type": "code",
   "execution_count": 36,
   "id": "4baa25f9",
   "metadata": {},
   "outputs": [
    {
     "data": {
      "text/html": [
       "<div>\n",
       "<style scoped>\n",
       "    .dataframe tbody tr th:only-of-type {\n",
       "        vertical-align: middle;\n",
       "    }\n",
       "\n",
       "    .dataframe tbody tr th {\n",
       "        vertical-align: top;\n",
       "    }\n",
       "\n",
       "    .dataframe thead th {\n",
       "        text-align: right;\n",
       "    }\n",
       "</style>\n",
       "<table border=\"1\" class=\"dataframe\">\n",
       "  <thead>\n",
       "    <tr style=\"text-align: right;\">\n",
       "      <th></th>\n",
       "      <th>original_index</th>\n",
       "      <th>review_text</th>\n",
       "      <th>review_text_processed</th>\n",
       "      <th>review_text_tokenized</th>\n",
       "      <th>polarity</th>\n",
       "      <th>rating</th>\n",
       "      <th>kfold_polarity</th>\n",
       "      <th>kfold_rating</th>\n",
       "    </tr>\n",
       "  </thead>\n",
       "  <tbody>\n",
       "    <tr>\n",
       "      <th>0</th>\n",
       "      <td>4_55516</td>\n",
       "      <td>Estou muito satisfeito, o visor é melhor do qu...</td>\n",
       "      <td>estou muito satisfeito, o visor e melhor do qu...</td>\n",
       "      <td>['estou', 'muito', 'satisfeito', 'visor', 'mel...</td>\n",
       "      <td>1.0</td>\n",
       "      <td>4</td>\n",
       "      <td>1</td>\n",
       "      <td>1</td>\n",
       "    </tr>\n",
       "    <tr>\n",
       "      <th>1</th>\n",
       "      <td>minus_1_105339</td>\n",
       "      <td>\"muito boa\\n\\nO que gostei: preco\\n\\nO que não...</td>\n",
       "      <td>\"muito boa\\n\\no que gostei: preco\\n\\no que nao...</td>\n",
       "      <td>['muito', 'boa', 'que', 'gostei', 'preco', 'qu...</td>\n",
       "      <td>1.0</td>\n",
       "      <td>5</td>\n",
       "      <td>1</td>\n",
       "      <td>1</td>\n",
       "    </tr>\n",
       "    <tr>\n",
       "      <th>2</th>\n",
       "      <td>23_382139</td>\n",
       "      <td>Rápida, ótima qualidade de impressão e fácil d...</td>\n",
       "      <td>rapida, otima qualidade de impressao e facil d...</td>\n",
       "      <td>['rapida', 'otima', 'qualidade', 'de', 'impres...</td>\n",
       "      <td>1.0</td>\n",
       "      <td>5</td>\n",
       "      <td>1</td>\n",
       "      <td>1</td>\n",
       "    </tr>\n",
       "    <tr>\n",
       "      <th>3</th>\n",
       "      <td>2_446456</td>\n",
       "      <td>Produto de ótima qualidade em todos os quesito!</td>\n",
       "      <td>produto de otima qualidade em todos os quesito!</td>\n",
       "      <td>['produto', 'de', 'otima', 'qualidade', 'em', ...</td>\n",
       "      <td>1.0</td>\n",
       "      <td>5</td>\n",
       "      <td>1</td>\n",
       "      <td>1</td>\n",
       "    </tr>\n",
       "    <tr>\n",
       "      <th>4</th>\n",
       "      <td>0_11324</td>\n",
       "      <td>Precisava comprar uma tv compatível com meu dv...</td>\n",
       "      <td>precisava comprar uma tv compativel com meu dv...</td>\n",
       "      <td>['precisava', 'comprar', 'uma', 'tv', 'compati...</td>\n",
       "      <td>1.0</td>\n",
       "      <td>5</td>\n",
       "      <td>1</td>\n",
       "      <td>1</td>\n",
       "    </tr>\n",
       "  </tbody>\n",
       "</table>\n",
       "</div>"
      ],
      "text/plain": [
       "   original_index                                        review_text  \\\n",
       "0         4_55516  Estou muito satisfeito, o visor é melhor do qu...   \n",
       "1  minus_1_105339  \"muito boa\\n\\nO que gostei: preco\\n\\nO que não...   \n",
       "2       23_382139  Rápida, ótima qualidade de impressão e fácil d...   \n",
       "3        2_446456    Produto de ótima qualidade em todos os quesito!   \n",
       "4         0_11324  Precisava comprar uma tv compatível com meu dv...   \n",
       "\n",
       "                               review_text_processed  \\\n",
       "0  estou muito satisfeito, o visor e melhor do qu...   \n",
       "1  \"muito boa\\n\\no que gostei: preco\\n\\no que nao...   \n",
       "2  rapida, otima qualidade de impressao e facil d...   \n",
       "3    produto de otima qualidade em todos os quesito!   \n",
       "4  precisava comprar uma tv compativel com meu dv...   \n",
       "\n",
       "                               review_text_tokenized  polarity  rating  \\\n",
       "0  ['estou', 'muito', 'satisfeito', 'visor', 'mel...       1.0       4   \n",
       "1  ['muito', 'boa', 'que', 'gostei', 'preco', 'qu...       1.0       5   \n",
       "2  ['rapida', 'otima', 'qualidade', 'de', 'impres...       1.0       5   \n",
       "3  ['produto', 'de', 'otima', 'qualidade', 'em', ...       1.0       5   \n",
       "4  ['precisava', 'comprar', 'uma', 'tv', 'compati...       1.0       5   \n",
       "\n",
       "   kfold_polarity  kfold_rating  \n",
       "0               1             1  \n",
       "1               1             1  \n",
       "2               1             1  \n",
       "3               1             1  \n",
       "4               1             1  "
      ]
     },
     "execution_count": 36,
     "metadata": {},
     "output_type": "execute_result"
    }
   ],
   "source": [
    "reviews = get_data(URL_PATH_FILE)\n",
    "reviews.head()"
   ]
  },
  {
   "cell_type": "markdown",
   "id": "d47e17e3",
   "metadata": {},
   "source": [
    "### Question 1.\n",
    "How many rows and columns the dataset has?"
   ]
  },
  {
   "cell_type": "code",
   "execution_count": 37,
   "id": "6c9313f6",
   "metadata": {},
   "outputs": [
    {
     "name": "stdout",
     "output_type": "stream",
     "text": [
      "The dataset has 84991 rows and 8 columns.\n"
     ]
    }
   ],
   "source": [
    "num_rows = reviews.shape[0]\n",
    "num_cols = reviews.shape[1]\n",
    "print(f\"The dataset has {num_rows} rows and {num_cols} columns.\")"
   ]
  },
  {
   "cell_type": "markdown",
   "id": "f7adff7c",
   "metadata": {},
   "source": [
    "### Question 2.\n",
    "1. Which columns had missing values?"
   ]
  },
  {
   "cell_type": "code",
   "execution_count": 38,
   "id": "11b90e48",
   "metadata": {},
   "outputs": [
    {
     "name": "stdout",
     "output_type": "stream",
     "text": [
      "{'review_text', 'polarity', 'review_text_processed'}\n"
     ]
    }
   ],
   "source": [
    "missing_cols = set(reviews.columns[reviews.isnull().sum() != 0])\n",
    "print(missing_cols)"
   ]
  },
  {
   "cell_type": "markdown",
   "id": "5af8cc48",
   "metadata": {},
   "source": [
    "2. Which columns have more than 20% of missing values?"
   ]
  },
  {
   "cell_type": "code",
   "execution_count": 39,
   "id": "a6cfc452",
   "metadata": {},
   "outputs": [
    {
     "name": "stdout",
     "output_type": "stream",
     "text": [
      "set()\n"
     ]
    }
   ],
   "source": [
    "most_missing_cols = set(reviews.columns[reviews.isnull().mean() > 0.20])\n",
    "print(most_missing_cols)"
   ]
  },
  {
   "cell_type": "markdown",
   "id": "09bbec01",
   "metadata": {},
   "source": [
    "### Question 3.\n",
    "Check if any columns are of different data types than you would expect(e.g., numbers showing as strings)\n"
   ]
  },
  {
   "cell_type": "code",
   "execution_count": 40,
   "id": "d3579550",
   "metadata": {},
   "outputs": [
    {
     "name": "stdout",
     "output_type": "stream",
     "text": [
      "<class 'pandas.core.frame.DataFrame'>\n",
      "RangeIndex: 84991 entries, 0 to 84990\n",
      "Data columns (total 8 columns):\n",
      " #   Column                 Non-Null Count  Dtype  \n",
      "---  ------                 --------------  -----  \n",
      " 0   original_index         84991 non-null  object \n",
      " 1   review_text            84990 non-null  object \n",
      " 2   review_text_processed  84990 non-null  object \n",
      " 3   review_text_tokenized  84991 non-null  object \n",
      " 4   polarity               73627 non-null  float64\n",
      " 5   rating                 84991 non-null  int64  \n",
      " 6   kfold_polarity         84991 non-null  int64  \n",
      " 7   kfold_rating           84991 non-null  int64  \n",
      "dtypes: float64(1), int64(3), object(4)\n",
      "memory usage: 5.2+ MB\n"
     ]
    }
   ],
   "source": [
    "reviews.info()"
   ]
  },
  {
   "cell_type": "code",
   "execution_count": 41,
   "id": "982ea26c",
   "metadata": {},
   "outputs": [
    {
     "data": {
      "text/plain": [
       "<AxesSubplot: >"
      ]
     },
     "execution_count": 41,
     "metadata": {},
     "output_type": "execute_result"
=======
  "cells": [
    {
      "cell_type": "markdown",
      "id": "0d30600e",
      "metadata": {
        "id": "0d30600e"
      },
      "source": [
        "# Exploratory Data Analysis\n",
        "In order to better understanding of the data we will be looking at throughout that project."
      ]
>>>>>>> 9f5959fac1b2cf4cb21a0dd83b3179d51fc34127
    },
    {
      "cell_type": "code",
      "execution_count": 18,
      "id": "5a351086",
      "metadata": {
        "id": "5a351086",
        "outputId": "9ff56da2-92b2-414a-a95e-91fb93a2a807",
        "colab": {
          "base_uri": "https://localhost:8080/"
        }
      },
      "outputs": [
        {
          "output_type": "stream",
          "name": "stderr",
          "text": [
            "[nltk_data] Downloading package stopwords to /root/nltk_data...\n",
            "[nltk_data]   Package stopwords is already up-to-date!\n"
          ]
        }
      ],
      "source": [
        "import os\n",
        "import re\n",
        "import string\n",
        "\n",
        "import nltk\n",
        "import numpy as np\n",
        "import matplotlib.pyplot as plt\n",
        "import pandas as pd\n",
        "\n",
        "from collections import Counter\n",
        "from nltk import word_tokenize\n",
        "\n",
        "nltk.download('stopwords')\n",
        "stopwords = nltk.corpus.stopwords.words('portuguese')\n",
        "\n",
        "%matplotlib inline"
      ]
<<<<<<< HEAD
     },
     "metadata": {},
     "output_type": "display_data"
    }
   ],
   "source": [
    "plt.figure(figsize=(20, 10))\n",
    "polarity_counts = reviews['polarity'].value_counts()\n",
    "polarity_counts.plot(kind=\"bar\")"
   ]
  },
  {
   "cell_type": "markdown",
   "id": "125823fb",
   "metadata": {},
   "source": [
    "### Question 4.\n",
    "Text statistics on **review_text**."
   ]
  },
  {
   "cell_type": "code",
   "execution_count": 42,
   "id": "207969de",
   "metadata": {},
   "outputs": [],
   "source": [
    "def word_counter(text):\n",
    "    \"\"\" Word counter.\n",
    "    \"\"\"\n",
    "    return len(text.split())\n",
    "\n",
    "def clean_text(text):\n",
    "    \"\"\" Make text lowercase, remove text in square brackets, remove punctuation and \n",
    "        remove words containing numbers.\n",
    "    \n",
    "    Args:\n",
    "        text(str): string text to be cleaned.\n",
    "\n",
    "    Returns:\n",
    "        A cleaned text\n",
    "\n",
    "    \"\"\"\n",
    "    text = text.lower()\n",
    "    text = re.sub('\\[.*?\\]', '', text)\n",
    "    text = re.sub('[%s]' % re.escape(string.punctuation), '', text)\n",
    "    text = re.sub('\\w*\\d\\w*', '', text)\n",
    "    text = re.sub('[``\"\"...]', '', text)\n",
    "    text = re.sub('\\n', ' ', text)\n",
    "\n",
    "    return text"
   ]
  },
  {
   "cell_type": "code",
   "execution_count": 43,
   "id": "6055cba2",
   "metadata": {},
   "outputs": [
    {
     "name": "stderr",
     "output_type": "stream",
     "text": [
      "/tmp/ipykernel_2019/2667142545.py:3: FutureWarning: In a future version, `df.iloc[:, i] = newvals` will attempt to set the values inplace instead of always setting a new array. To retain the old behavior, use either `df[df.columns[i]] = newvals` or, if columns are non-unique, `df.isetitem(i, newvals)`\n",
      "  reviews.loc[:, ['review_text_cleaned_len']] = reviews['review_text_cleaned'].apply(word_counter)\n",
      "/tmp/ipykernel_2019/2667142545.py:5: FutureWarning: In a future version, `df.iloc[:, i] = newvals` will attempt to set the values inplace instead of always setting a new array. To retain the old behavior, use either `df[df.columns[i]] = newvals` or, if columns are non-unique, `df.isetitem(i, newvals)`\n",
      "  reviews.loc[:, ['review_text_cleaned_len_no_stopwords']] = reviews['review_text_cleaned_no_stopwords'].apply(word_counter)\n"
     ]
    }
   ],
   "source": [
    "reviews.dropna(subset=['review_text'], inplace=True)\n",
    "reviews.loc[:, ['review_text_cleaned']] = reviews['review_text'].apply(lambda x: clean_text(x))\n",
    "reviews.loc[:, ['review_text_cleaned_len']] = reviews['review_text_cleaned'].apply(word_counter)\n",
    "reviews.loc[:, ['review_text_cleaned_no_stopwords']] = reviews['review_text_cleaned'].apply(lambda x: ' '.join([word for word in x.split() if word not in (stopwords)]))\n",
    "reviews.loc[:, ['review_text_cleaned_len_no_stopwords']] = reviews['review_text_cleaned_no_stopwords'].apply(word_counter)"
   ]
  },
  {
   "cell_type": "code",
   "execution_count": 44,
   "id": "b9b7ca0c",
   "metadata": {},
   "outputs": [
    {
     "data": {
      "image/png": "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",
      "text/plain": [
       "<Figure size 2000x1000 with 1 Axes>"
=======
    },
    {
      "cell_type": "code",
      "source": [
        "#!ssh-keygen"
      ],
      "metadata": {
        "colab": {
          "base_uri": "https://localhost:8080/"
        },
        "id": "5OfmOeb9_643",
        "outputId": "7d399587-d9b5-461f-f953-f6612ea4d376"
      },
      "id": "5OfmOeb9_643",
      "execution_count": 4,
      "outputs": [
        {
          "output_type": "stream",
          "name": "stdout",
          "text": [
            "Generating public/private rsa key pair.\n",
            "Enter file in which to save the key (/root/.ssh/id_rsa): \n",
            "Created directory '/root/.ssh'.\n",
            "Enter passphrase (empty for no passphrase): \n",
            "Enter same passphrase again: \n",
            "Your identification has been saved in /root/.ssh/id_rsa.\n",
            "Your public key has been saved in /root/.ssh/id_rsa.pub.\n",
            "The key fingerprint is:\n",
            "SHA256:SAPAeesowqXWHrHPbR8U+gzhj/aXom7HA9/A2VvQoD8 root@c42f475e9d97\n",
            "The key's randomart image is:\n",
            "+---[RSA 2048]----+\n",
            "| ..o.            |\n",
            "|  o ..     .     |\n",
            "|   . .o. .. o    |\n",
            "|   o...oo... .   |\n",
            "|. +oo .+S.+ .    |\n",
            "|o+.+.  .B+ E .   |\n",
            "|o.. + .o+=o =    |\n",
            "|   . o.+.*.=     |\n",
            "|      +o+o+      |\n",
            "+----[SHA256]-----+\n"
          ]
        }
      ]
    },
    {
      "cell_type": "code",
      "source": [
        "#!cat /root/.ssh/id_rsa.pub"
      ],
      "metadata": {
        "id": "6fbRp-9XALV6",
        "outputId": "fdf93fda-7a39-4045-b20d-72eab20c9187",
        "colab": {
          "base_uri": "https://localhost:8080/"
        }
      },
      "id": "6fbRp-9XALV6",
      "execution_count": 5,
      "outputs": [
        {
          "output_type": "stream",
          "name": "stdout",
          "text": [
            "ssh-rsa AAAAB3NzaC1yc2EAAAADAQABAAABAQDpeDuv8p9fFYvZWIdv/MZiplNQiK1wji8xcj0L5j9dkKGWWb2a2XhNGYGq9fQRRglzsH8imrl176CAk8JumYquO8F2DMzEVldsmX8AZJoz+ExFBeg6/pKn5Ugrmkd0Cs/bP2m1kFLVOU5D3aJqo6cy35qDgxHAMMquGEf5+ph5OTHS/ctA8kKL4oaXbxeEFjqt8rNeTvZ0dy8oc9iVSCBapHexp7tE1AHYr/nuXlWIgAgCLeKSCa3iU5eiWcxmFNc8sDCZJBuxrB//JFKPP4TJBVPiBiT2EyNfwNv8XKr0QE2wWewt2McAO/qmoVmSY1Rfv7MmMk/f8OU8SthG/NPZ root@c42f475e9d97\n"
          ]
        }
      ]
    },
    {
      "cell_type": "markdown",
      "id": "211a4d11",
      "metadata": {
        "id": "211a4d11"
      },
      "source": [
        "When we getting started an Exploratory Data Analisys (EDA), we should answer the next questions:\n",
        "\n",
        "1. Look at the number of rows and columns in the dataset. \n",
        "2. Check if there are missing values in any of the rows or columns.\n",
        "3. Check if any columns are of different data types than you would expect(e.g., numbers showing as strings)\n",
        "4. Check that each column is a variable, and each row is an individual.\n",
        "5. Build exploratory plots like bar charts, histograms, and scatterplots to better understand the data."
      ]
    },
    {
      "cell_type": "code",
      "execution_count": 6,
      "id": "be92e6cc",
      "metadata": {
        "id": "be92e6cc"
      },
      "outputs": [],
      "source": [
        "def get_data(file):\n",
        "    \"\"\"Get the data from csv file\n",
        "    \n",
        "    \"\"\"\n",
        "    return pd.read_csv(file)"
      ]
    },
    {
      "cell_type": "code",
      "execution_count": 7,
      "id": "4baa25f9",
      "metadata": {
        "id": "4baa25f9",
        "outputId": "c265e88d-9cb4-4343-a2dd-6ce5ff2e1740",
        "colab": {
          "base_uri": "https://localhost:8080/",
          "height": 337
        }
      },
      "outputs": [
        {
          "output_type": "execute_result",
          "data": {
            "text/plain": [
              "   original_index                                        review_text  \\\n",
              "0         4_55516  Estou muito satisfeito, o visor é melhor do qu...   \n",
              "1  minus_1_105339  \"muito boa\\n\\nO que gostei: preco\\n\\nO que não...   \n",
              "2       23_382139  Rápida, ótima qualidade de impressão e fácil d...   \n",
              "3        2_446456    Produto de ótima qualidade em todos os quesito!   \n",
              "4         0_11324  Precisava comprar uma tv compatível com meu dv...   \n",
              "\n",
              "                               review_text_processed  \\\n",
              "0  estou muito satisfeito, o visor e melhor do qu...   \n",
              "1  \"muito boa\\n\\no que gostei: preco\\n\\no que nao...   \n",
              "2  rapida, otima qualidade de impressao e facil d...   \n",
              "3    produto de otima qualidade em todos os quesito!   \n",
              "4  precisava comprar uma tv compativel com meu dv...   \n",
              "\n",
              "                               review_text_tokenized  polarity  rating  \\\n",
              "0  ['estou', 'muito', 'satisfeito', 'visor', 'mel...       1.0       4   \n",
              "1  ['muito', 'boa', 'que', 'gostei', 'preco', 'qu...       1.0       5   \n",
              "2  ['rapida', 'otima', 'qualidade', 'de', 'impres...       1.0       5   \n",
              "3  ['produto', 'de', 'otima', 'qualidade', 'em', ...       1.0       5   \n",
              "4  ['precisava', 'comprar', 'uma', 'tv', 'compati...       1.0       5   \n",
              "\n",
              "   kfold_polarity  kfold_rating  \n",
              "0               1             1  \n",
              "1               1             1  \n",
              "2               1             1  \n",
              "3               1             1  \n",
              "4               1             1  "
            ],
            "text/html": [
              "\n",
              "  <div id=\"df-f9d432fa-8ee5-48c2-9749-5bc30a8f5515\">\n",
              "    <div class=\"colab-df-container\">\n",
              "      <div>\n",
              "<style scoped>\n",
              "    .dataframe tbody tr th:only-of-type {\n",
              "        vertical-align: middle;\n",
              "    }\n",
              "\n",
              "    .dataframe tbody tr th {\n",
              "        vertical-align: top;\n",
              "    }\n",
              "\n",
              "    .dataframe thead th {\n",
              "        text-align: right;\n",
              "    }\n",
              "</style>\n",
              "<table border=\"1\" class=\"dataframe\">\n",
              "  <thead>\n",
              "    <tr style=\"text-align: right;\">\n",
              "      <th></th>\n",
              "      <th>original_index</th>\n",
              "      <th>review_text</th>\n",
              "      <th>review_text_processed</th>\n",
              "      <th>review_text_tokenized</th>\n",
              "      <th>polarity</th>\n",
              "      <th>rating</th>\n",
              "      <th>kfold_polarity</th>\n",
              "      <th>kfold_rating</th>\n",
              "    </tr>\n",
              "  </thead>\n",
              "  <tbody>\n",
              "    <tr>\n",
              "      <th>0</th>\n",
              "      <td>4_55516</td>\n",
              "      <td>Estou muito satisfeito, o visor é melhor do qu...</td>\n",
              "      <td>estou muito satisfeito, o visor e melhor do qu...</td>\n",
              "      <td>['estou', 'muito', 'satisfeito', 'visor', 'mel...</td>\n",
              "      <td>1.0</td>\n",
              "      <td>4</td>\n",
              "      <td>1</td>\n",
              "      <td>1</td>\n",
              "    </tr>\n",
              "    <tr>\n",
              "      <th>1</th>\n",
              "      <td>minus_1_105339</td>\n",
              "      <td>\"muito boa\\n\\nO que gostei: preco\\n\\nO que não...</td>\n",
              "      <td>\"muito boa\\n\\no que gostei: preco\\n\\no que nao...</td>\n",
              "      <td>['muito', 'boa', 'que', 'gostei', 'preco', 'qu...</td>\n",
              "      <td>1.0</td>\n",
              "      <td>5</td>\n",
              "      <td>1</td>\n",
              "      <td>1</td>\n",
              "    </tr>\n",
              "    <tr>\n",
              "      <th>2</th>\n",
              "      <td>23_382139</td>\n",
              "      <td>Rápida, ótima qualidade de impressão e fácil d...</td>\n",
              "      <td>rapida, otima qualidade de impressao e facil d...</td>\n",
              "      <td>['rapida', 'otima', 'qualidade', 'de', 'impres...</td>\n",
              "      <td>1.0</td>\n",
              "      <td>5</td>\n",
              "      <td>1</td>\n",
              "      <td>1</td>\n",
              "    </tr>\n",
              "    <tr>\n",
              "      <th>3</th>\n",
              "      <td>2_446456</td>\n",
              "      <td>Produto de ótima qualidade em todos os quesito!</td>\n",
              "      <td>produto de otima qualidade em todos os quesito!</td>\n",
              "      <td>['produto', 'de', 'otima', 'qualidade', 'em', ...</td>\n",
              "      <td>1.0</td>\n",
              "      <td>5</td>\n",
              "      <td>1</td>\n",
              "      <td>1</td>\n",
              "    </tr>\n",
              "    <tr>\n",
              "      <th>4</th>\n",
              "      <td>0_11324</td>\n",
              "      <td>Precisava comprar uma tv compatível com meu dv...</td>\n",
              "      <td>precisava comprar uma tv compativel com meu dv...</td>\n",
              "      <td>['precisava', 'comprar', 'uma', 'tv', 'compati...</td>\n",
              "      <td>1.0</td>\n",
              "      <td>5</td>\n",
              "      <td>1</td>\n",
              "      <td>1</td>\n",
              "    </tr>\n",
              "  </tbody>\n",
              "</table>\n",
              "</div>\n",
              "      <button class=\"colab-df-convert\" onclick=\"convertToInteractive('df-f9d432fa-8ee5-48c2-9749-5bc30a8f5515')\"\n",
              "              title=\"Convert this dataframe to an interactive table.\"\n",
              "              style=\"display:none;\">\n",
              "        \n",
              "  <svg xmlns=\"http://www.w3.org/2000/svg\" height=\"24px\"viewBox=\"0 0 24 24\"\n",
              "       width=\"24px\">\n",
              "    <path d=\"M0 0h24v24H0V0z\" fill=\"none\"/>\n",
              "    <path d=\"M18.56 5.44l.94 2.06.94-2.06 2.06-.94-2.06-.94-.94-2.06-.94 2.06-2.06.94zm-11 1L8.5 8.5l.94-2.06 2.06-.94-2.06-.94L8.5 2.5l-.94 2.06-2.06.94zm10 10l.94 2.06.94-2.06 2.06-.94-2.06-.94-.94-2.06-.94 2.06-2.06.94z\"/><path d=\"M17.41 7.96l-1.37-1.37c-.4-.4-.92-.59-1.43-.59-.52 0-1.04.2-1.43.59L10.3 9.45l-7.72 7.72c-.78.78-.78 2.05 0 2.83L4 21.41c.39.39.9.59 1.41.59.51 0 1.02-.2 1.41-.59l7.78-7.78 2.81-2.81c.8-.78.8-2.07 0-2.86zM5.41 20L4 18.59l7.72-7.72 1.47 1.35L5.41 20z\"/>\n",
              "  </svg>\n",
              "      </button>\n",
              "      \n",
              "  <style>\n",
              "    .colab-df-container {\n",
              "      display:flex;\n",
              "      flex-wrap:wrap;\n",
              "      gap: 12px;\n",
              "    }\n",
              "\n",
              "    .colab-df-convert {\n",
              "      background-color: #E8F0FE;\n",
              "      border: none;\n",
              "      border-radius: 50%;\n",
              "      cursor: pointer;\n",
              "      display: none;\n",
              "      fill: #1967D2;\n",
              "      height: 32px;\n",
              "      padding: 0 0 0 0;\n",
              "      width: 32px;\n",
              "    }\n",
              "\n",
              "    .colab-df-convert:hover {\n",
              "      background-color: #E2EBFA;\n",
              "      box-shadow: 0px 1px 2px rgba(60, 64, 67, 0.3), 0px 1px 3px 1px rgba(60, 64, 67, 0.15);\n",
              "      fill: #174EA6;\n",
              "    }\n",
              "\n",
              "    [theme=dark] .colab-df-convert {\n",
              "      background-color: #3B4455;\n",
              "      fill: #D2E3FC;\n",
              "    }\n",
              "\n",
              "    [theme=dark] .colab-df-convert:hover {\n",
              "      background-color: #434B5C;\n",
              "      box-shadow: 0px 1px 3px 1px rgba(0, 0, 0, 0.15);\n",
              "      filter: drop-shadow(0px 1px 2px rgba(0, 0, 0, 0.3));\n",
              "      fill: #FFFFFF;\n",
              "    }\n",
              "  </style>\n",
              "\n",
              "      <script>\n",
              "        const buttonEl =\n",
              "          document.querySelector('#df-f9d432fa-8ee5-48c2-9749-5bc30a8f5515 button.colab-df-convert');\n",
              "        buttonEl.style.display =\n",
              "          google.colab.kernel.accessAllowed ? 'block' : 'none';\n",
              "\n",
              "        async function convertToInteractive(key) {\n",
              "          const element = document.querySelector('#df-f9d432fa-8ee5-48c2-9749-5bc30a8f5515');\n",
              "          const dataTable =\n",
              "            await google.colab.kernel.invokeFunction('convertToInteractive',\n",
              "                                                     [key], {});\n",
              "          if (!dataTable) return;\n",
              "\n",
              "          const docLinkHtml = 'Like what you see? Visit the ' +\n",
              "            '<a target=\"_blank\" href=https://colab.research.google.com/notebooks/data_table.ipynb>data table notebook</a>'\n",
              "            + ' to learn more about interactive tables.';\n",
              "          element.innerHTML = '';\n",
              "          dataTable['output_type'] = 'display_data';\n",
              "          await google.colab.output.renderOutput(dataTable, element);\n",
              "          const docLink = document.createElement('div');\n",
              "          docLink.innerHTML = docLinkHtml;\n",
              "          element.appendChild(docLink);\n",
              "        }\n",
              "      </script>\n",
              "    </div>\n",
              "  </div>\n",
              "  "
            ]
          },
          "metadata": {},
          "execution_count": 7
        }
      ],
      "source": [
        "reviews = get_data('product-review-analytics/data/raw/buscape.csv')\n",
        "reviews.head()"
      ]
    },
    {
      "cell_type": "markdown",
      "id": "d47e17e3",
      "metadata": {
        "id": "d47e17e3"
      },
      "source": [
        "### Question 1.\n",
        "How many rows and columns the dataset has?"
      ]
    },
    {
      "cell_type": "code",
      "execution_count": 8,
      "id": "6c9313f6",
      "metadata": {
        "id": "6c9313f6",
        "outputId": "9ffd7ce9-f95c-4e9e-b375-e6070b584cd5",
        "colab": {
          "base_uri": "https://localhost:8080/"
        }
      },
      "outputs": [
        {
          "output_type": "stream",
          "name": "stdout",
          "text": [
            "The dataset has 84991 rows and 8 columns.\n"
          ]
        }
      ],
      "source": [
        "num_rows = reviews.shape[0]\n",
        "num_cols = reviews.shape[1]\n",
        "print(f\"The dataset has {num_rows} rows and {num_cols} columns.\")"
      ]
    },
    {
      "cell_type": "markdown",
      "id": "f7adff7c",
      "metadata": {
        "id": "f7adff7c"
      },
      "source": [
        "### Question 2.\n",
        "1. Which columns had missing values?"
      ]
    },
    {
      "cell_type": "code",
      "execution_count": 9,
      "id": "11b90e48",
      "metadata": {
        "id": "11b90e48",
        "outputId": "e4eee2e9-e1e3-426f-f896-c0e526c4e8b4",
        "colab": {
          "base_uri": "https://localhost:8080/"
        }
      },
      "outputs": [
        {
          "output_type": "stream",
          "name": "stdout",
          "text": [
            "{'review_text', 'review_text_processed', 'polarity'}\n"
          ]
        }
      ],
      "source": [
        "missing_cols = set(reviews.columns[reviews.isnull().sum() != 0])\n",
        "print(missing_cols)"
      ]
    },
    {
      "cell_type": "markdown",
      "id": "5af8cc48",
      "metadata": {
        "id": "5af8cc48"
      },
      "source": [
        "2. Which columns have more than 20% of missing values?"
      ]
    },
    {
      "cell_type": "code",
      "execution_count": 10,
      "id": "a6cfc452",
      "metadata": {
        "id": "a6cfc452",
        "outputId": "be2f90cf-95ce-4d71-bac8-9ddfb1f2d3b6",
        "colab": {
          "base_uri": "https://localhost:8080/"
        }
      },
      "outputs": [
        {
          "output_type": "stream",
          "name": "stdout",
          "text": [
            "set()\n"
          ]
        }
      ],
      "source": [
        "most_missing_cols = set(reviews.columns[reviews.isnull().mean() > 0.20])\n",
        "print(most_missing_cols)"
      ]
    },
    {
      "cell_type": "markdown",
      "id": "09bbec01",
      "metadata": {
        "id": "09bbec01"
      },
      "source": [
        "### Question 3.\n",
        "Check if any columns are of different data types than you would expect(e.g., numbers showing as strings)\n"
      ]
    },
    {
      "cell_type": "code",
      "execution_count": 11,
      "id": "d3579550",
      "metadata": {
        "id": "d3579550",
        "outputId": "17a0d49e-e6bb-4c10-cc84-2a084977398f",
        "colab": {
          "base_uri": "https://localhost:8080/"
        }
      },
      "outputs": [
        {
          "output_type": "stream",
          "name": "stdout",
          "text": [
            "<class 'pandas.core.frame.DataFrame'>\n",
            "RangeIndex: 84991 entries, 0 to 84990\n",
            "Data columns (total 8 columns):\n",
            " #   Column                 Non-Null Count  Dtype  \n",
            "---  ------                 --------------  -----  \n",
            " 0   original_index         84991 non-null  object \n",
            " 1   review_text            84990 non-null  object \n",
            " 2   review_text_processed  84990 non-null  object \n",
            " 3   review_text_tokenized  84991 non-null  object \n",
            " 4   polarity               73627 non-null  float64\n",
            " 5   rating                 84991 non-null  int64  \n",
            " 6   kfold_polarity         84991 non-null  int64  \n",
            " 7   kfold_rating           84991 non-null  int64  \n",
            "dtypes: float64(1), int64(3), object(4)\n",
            "memory usage: 5.2+ MB\n"
          ]
        }
      ],
      "source": [
        "reviews.info()"
      ]
    },
    {
      "cell_type": "code",
      "execution_count": 12,
      "id": "982ea26c",
      "metadata": {
        "id": "982ea26c",
        "outputId": "ac437af8-5c03-4dcc-91ac-1ee853c3b96b",
        "colab": {
          "base_uri": "https://localhost:8080/",
          "height": 617
        }
      },
      "outputs": [
        {
          "output_type": "execute_result",
          "data": {
            "text/plain": [
              "<matplotlib.axes._subplots.AxesSubplot at 0x7f4bb3159fd0>"
            ]
          },
          "metadata": {},
          "execution_count": 12
        },
        {
          "output_type": "display_data",
          "data": {
            "text/plain": [
              "<Figure size 1440x720 with 1 Axes>"
            ],
            "image/png": "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\n"
          },
          "metadata": {
            "needs_background": "light"
          }
        }
      ],
      "source": [
        "plt.figure(figsize=(20, 10))\n",
        "polarity_counts = reviews['polarity'].value_counts()\n",
        "polarity_counts.plot(kind=\"bar\")"
      ]
    },
    {
      "cell_type": "markdown",
      "id": "125823fb",
      "metadata": {
        "id": "125823fb"
      },
      "source": [
        "### Question 4.\n",
        "Text statistics on **review_text**."
      ]
    },
    {
      "cell_type": "code",
      "execution_count": 13,
      "id": "207969de",
      "metadata": {
        "id": "207969de"
      },
      "outputs": [],
      "source": [
        "def word_counter(text):\n",
        "    \"\"\" Word counter.\n",
        "    \"\"\"\n",
        "    return len(text.split())\n",
        "\n",
        "def clean_text(text):\n",
        "    \"\"\" Make text lowercase, remove text in square brackets, remove punctuation and \n",
        "        remove words containing numbers.\n",
        "    \n",
        "    Args:\n",
        "        text(str): string text to be cleaned.\n",
        "\n",
        "    Returns:\n",
        "        A cleaned text\n",
        "\n",
        "    \"\"\"\n",
        "    text = text.lower()\n",
        "    text = re.sub('\\[.*?\\]', '', text)\n",
        "    text = re.sub('[%s]' % re.escape(string.punctuation), '', text)\n",
        "    text = re.sub('\\w*\\d\\w*', '', text)\n",
        "    text = re.sub('[``\"\"...]', '', text)\n",
        "    text = re.sub('\\n', ' ', text)\n",
        "\n",
        "    return text"
      ]
    },
    {
      "cell_type": "code",
      "execution_count": 14,
      "id": "6055cba2",
      "metadata": {
        "id": "6055cba2"
      },
      "outputs": [],
      "source": [
        "reviews.dropna(subset=['review_text'], inplace=True)\n",
        "reviews.loc[:, ['review_text_cleaned']] = reviews['review_text'].apply(lambda x: clean_text(x))\n",
        "reviews.loc[:, ['review_text_cleaned_len']] = reviews['review_text_cleaned'].apply(word_counter)\n",
        "reviews.loc[:, ['review_text_cleaned_no_stopwords']] = reviews['review_text_cleaned'].apply(lambda x: ' '.join([word for word in x.split() if word not in (stopwords)]))\n",
        "reviews.loc[:, ['review_text_cleaned_len_no_stopwords']] = reviews['review_text_cleaned_no_stopwords'].apply(word_counter)"
      ]
    },
    {
      "cell_type": "code",
      "execution_count": 15,
      "id": "b9b7ca0c",
      "metadata": {
        "id": "b9b7ca0c",
        "outputId": "fff43fb0-e104-42b0-ab6c-d65cc2de33ad",
        "colab": {
          "base_uri": "https://localhost:8080/",
          "height": 607
        }
      },
      "outputs": [
        {
          "output_type": "display_data",
          "data": {
            "text/plain": [
              "<Figure size 1440x720 with 1 Axes>"
            ],
            "image/png": "iVBORw0KGgoAAAANSUhEUgAABIQAAAJOCAYAAADGcdzeAAAABHNCSVQICAgIfAhkiAAAAAlwSFlzAAALEgAACxIB0t1+/AAAADh0RVh0U29mdHdhcmUAbWF0cGxvdGxpYiB2ZXJzaW9uMy4yLjIsIGh0dHA6Ly9tYXRwbG90bGliLm9yZy+WH4yJAAAgAElEQVR4nOzdfZBdd33n+c+vH9yNJUcPsdYg5FipJSxt9+7G2R4SNp7UKkyWMUsBVWECIpOQuIHVVqqH3TC2M+nazTCLnLUXL8NqcQQVOeOpxT3EzDhxDWG9YDrDdDxhtm2oGQXNYCdYWLaDlUh+oKWW+uG3f/SV3DLClmy5z+We16tKde/9nXtvf9t/qMSbc36n1FoDAAAAQHv0NT0AAAAAAGtLEAIAAABoGUEIAAAAoGUEIQAAAICWEYQAAAAAWkYQAgAAAGgZQQgA6DmllH9SSvloQz+7lFJ+r5RytJTyb5uY4Xnz1FLK65qeAwDoLoIQAPCKK6U8Ukp5spSybtXa+0spf9zgWK+Ua5L8XJJttdY3rj5QShkopXy3lPKTq9Z+sRNtnr/2H9ZuZACgbQQhAGCt9Cf5UNNDnK9SSv95fuSKJI/UWueef6DWupjk3yT5mVXLP5PkP5xl7SvnOefAec4JALSYIAQArJX/PcnfL6VsfP6BUsr2zlkyA6vW/riU8v7O818ppfxJKeXjpZSnSil/UUr5rzvrj3bOPnrf87720lLKF0spz5ZS/lUp5YpV3/2GzrEjpZT/WEr5hVXH/kkp5XdKKX9USplLsuMs824tpdzT+fzDpZQPdNbHk/xukjd1zgT6yFn+O3wlZ8afv5nk5rOsfaXznR/o/IwjnZ+5ddUctZTya6WUh5I81Fm7vpTyRCnl8VLKdc+b+62llG90/ps8Vkr5+2eZDwBoAUEIAFgrs0n+OMlLjRA/meTfJfnhJHcm+WdJ/kaS1yX5u0n+r1LK+lXv/8Uk/2uSS5N8PclnkqRz2doXO9/xnyR5T5LbSilXrvrse5PsTnJJkpmzzPLPkhxKsjXJu5LcVEr52VrrviS7kvybWuv6WutvneWzX0ny06WUvlLKpUnWJfn9JG9ctTaS5CullJ9N8ttJfiHJa5Ic7Pzs1d7Z+W9zZSnlb2flv+/PJfmxJH/ree/dl+S/r7VekmQ0yZfPMh8A0AKCEACwlv6XJBOllC0v4bPfqrX+Xq11Kclnk1ye5B/VWk/UWv/fJCezEodO+Xyt9Su11hNJJrNy1s7lSd6WlUu6fq/Wulhr/VqSf57k76z67B/WWv+k1rpca51fPUTnO346yY211vla69ezclbQL5/j7/HVJBcn+c+zcibQTK31WJJvrVp7pNb67axErdtrrQ92fo9/0Pk9tq/6vt+utR6ptR7PSjj6vVrr/s4la//weT97ISvh6IdqrUdrrQ+e48wAQI8RhACANVNr3Z/kXyb5jZfw8e+sen68833PX1t9htCjq37ud5McycoZPVck+cnOpWdPlVKeykp4efXZPnsWW5McqbU+u2rtYJLXnssv0QlM/zYrl4j9TJJ/3Tk0s2rt1P5BWzvfvfr3+Ovn/azVs2593uuDOdPPJ3lrkoOdy+jedC4zAwC9RxACANbabyX5QM6MGqc2YL541drqQPNSXH7qSedSss1JHs9KMPlXtdaNq/6sr7X+D6s+W1/gex9PsrmUcsmqtR9J8th5zHZqH6G/meeC0L9etXYqCD2elYB16vdYl5VL5lb/rNWzPpFVv3dnrufeWOv/V2t9R1YulfuDrFyqBgC0kCAEAKypWuvDWbnk6++tWjuclcjxd0sp/Z3NkP/Tl/mj3lpKuaaUclFW9hL601rro1k5Q+n1pZRfKqUMdv78jVLKyDnO/2iS+5P8dilluJTyXyQZT/J/n8dsX8nKZtWXJ/lGZ+1Pkvw3SX48zwWhqSS/Wkr58VLKUJKbkny11vrI9/ne30/yK6WUK0spF2clviVJSikXdW5nv6HWupDkmSTL5zEzANBDBCEAoAn/KCubKa/2gSTXZ+WSqKuyEl1ejjuzEkSOJPmvsrLxdDqXev23WdlM+vEkf5mVu3wNncd370yyvfP5u5P8Vq31S+fx+fuTbMhK3Kmduf4qyeEkT9ZaH+qsfSnJ/5yVPY6eyEoke8/3+9Ja6xeS/OOsbBb9cL530+hfSvJIKeWZrGx+/YvnMTMA0ENK598gAAAAALSEM4QAAAAAWkYQAgAAAGgZQQgAAACgZQQhAAAAgJYZaHqAJLn00kvr9u3bmx4DAAAAoGc88MADf1Vr3XK2Y10RhLZv357Z2dmmxwAAAADoGaWUg9/vmEvGAAAAAFpGEAIAAABoGUEIAAAAoGUEIQAAAICWEYQAAAAAWkYQAgAAAGgZQQgAAACgZQQhAAAAgJYRhAAAAABaRhACAAAAaBlBCAAAAKBlBCEAAACAlhGEAAAAAFpGEAIAAABoGUEIAAAAoGUEIQAAAICWEYQAAAAAWkYQAgAAAGgZQQgAAACgZQQhAAAAgJYRhICeMzU1ldHR0fT392d0dDRTU1NNjwQAANBVBpoeAOBCmpqayuTkZPbt25drrrkmMzMzGR8fT5Ls3Lmz4ekAAAC6Q6m1Nj1DxsbG6uzsbNNjAD1gdHQ0e/bsyY4dO06vTU9PZ2JiIvv3729wMgAAgLVVSnmg1jp21mOCENBL+vv7Mz8/n8HBwdNrCwsLGR4eztLSUoOTAQAArK0XCkL2EAJ6ysjISGZmZs5Ym5mZycjISEMTAQAAdB9BCOgpk5OTGR8fz/T0dBYWFjI9PZ3x8fFMTk42PRoAAEDXsKk00FNObRw9MTGRAwcOZGRkJLt377ahNAAAwCr2EAIAAADoQfYQAgAAAOA0QQgAAACgZQQhAAAAgJYRhAAAAABaRhACAAAAaBlBCAAAAKBlBCEAAACAljmnIFRK+Z9KKX9WStlfSpkqpQyXUn60lPLVUsrDpZTPllIu6rx3qPP64c7x7a/kLwAAAADA+XnRIFRKeW2Sv5dkrNY6mqQ/yXuS3Jzk47XW1yU5mmS885HxJEc76x/vvA8AAACALnGul4wNJHlVKWUgycVJnkjys0k+1zl+R5J3dp6/o/M6neNvLqWUCzMuAAAAAC/XiwahWutjST6W5NtZCUFPJ3kgyVO11sXO2w4leW3n+WuTPNr57GLn/T/8/O8tpXywlDJbSpk9fPjwy/09AAAAADhH53LJ2KasnPXzo0m2JlmX5G+/3B9ca/10rXWs1jq2ZcuWl/t1AAAAAJyjc7lk7G8l+Vat9XCtdSHJv0jy00k2di4hS5JtSR7rPH8syeVJ0jm+IclfX9CpAQAAAHjJziUIfTvJT5VSLu7sBfTmJN9IMp3kXZ33vC/JH3ae39N5nc7xL9da64UbGQAAAICX41z2EPpqVjaHfjDJv+985tNJbkzy66WUh7OyR9C+zkf2JfnhzvqvJ/mNV2BuAAAAAF6i0g0n74yNjdXZ2dmmxwAAAADoGaWUB2qtY2c7dq63nQcAAACgRwhCAAAAAC0jCAEAAAC0jCAEAAAA0DKCEAAAAEDLCEIAAAAALSMIAQAAALSMIAQAAADQMoIQAAAAQMsIQgAAAAAtIwgBAAAAtIwgBAAAANAyghAAAABAywhCAAAAAC0jCAEAAAC0jCAEAAAA0DKCEAAAAEDLCEIAAAAALSMIAQAAALSMIAQAAADQMoIQAAAAQMsIQgAAAAAtIwgBAAAAtIwgBAAAANAyghAAAABAywhCAAAAAC0jCAEAAAC0jCAEAAAA0DKCEAAAAEDLCEIAAAAALSMIAQAAALSMIAQAAADQMoIQAAAAQMsIQgAAAAAtIwgBAAAAtIwgBAAAANAyghAAAABAywhCAAAAAC0jCAEAAAC0jCAEAAAA0DKCEAAAAEDLCEIAAAAALSMIAQAAALSMIAQAAADQMoIQAAAAQMsIQgAAAAAtIwgBAAAAtIwgBAAA0JCpqamMjo6mv78/o6OjmZqaanokoCUGmh4AAACgjaampjI5OZl9+/blmmuuyczMTMbHx5MkO3fubHg6oNeVWmvTM2RsbKzOzs42PQYAAMCaGR0dzZ49e7Jjx47Ta9PT05mYmMj+/fsbnAzoFaWUB2qtY2c9JggBAACsvf7+/szPz2dwcPD02sLCQoaHh7O0tNTgZECveKEgZA8hAACABoyMjGRmZuaMtZmZmYyMjDQ0EdAmghAAAEADJicnMz4+nunp6SwsLGR6ejrj4+OZnJxsejSgBWwqDQAA0IBTG0dPTEzkwIEDGRkZye7du20oDawJewgBAAAA9CB7CAEAAABwmiAEAAAA0DKCEAAAAEDLCEIAAAAALSMIAQAAALSMIAQAAADQMoIQAAAAQMsIQgAAAAAtIwgBAAAAtIwgBAAAANAyghAAAABAywhCAAAAAC0jCAEAAAC0jCAEAAAA0DKCEAAAAEDLCEIAAAAALSMIAQAAALSMIAQAAADQMoIQAAAAQMsIQgAAAAAtIwgBAAAAtIwgBAAAANAyghAAAABAywhCAAAAAC0jCAEAAAC0jCAEAAAA0DKCEAAAAEDLCEIAAAAALSMIAQAAALSMIAQAAADQMoIQAAAAQMsIQgAAAAAtIwgBAAAAtIwgBAAAANAyghAAAABAywhCAAAAAC0jCAEAAAC0jCAEAAAA0DKCEAAAAEDLCEIAAAAALSMIAQAAALSMIAQAAADQMoIQAAAAQMsIQgAAAAAtIwgBPWdqaiqjo6Pp7+/P6Ohopqammh4JAACgqww0PQDAhTQ1NZXJycns27cv11xzTWZmZjI+Pp4k2blzZ8PTAQAAdIdSa216hoyNjdXZ2dmmxwB6wOjoaPbs2ZMdO3acXpuens7ExET279/f4GQAAABrq5TyQK117KzHBCGgl/T392d+fj6Dg4On1xYWFjI8PJylpaUGJwMAAFhbLxSE7CEE9JSRkZHMzMycsTYzM5ORkZGGJgIAAOg+9hACesrk5GTe/e53Z926dTl48GCuuOKKzM3N5ROf+ETTowEAAHQNZwgBPauU0vQIAAAAXUkQAnrK7t2789nPfjbf+ta3srS0lG9961v57Gc/m927dzc9GgAAQNewqTTQU2wqDQAAsMKm0kBr2FQaAADgxQlCQE+ZnJzM+Ph4pqens7CwkOnp6YyPj2dycrLp0QAAALqGu4wBPWXnzp1JkomJiRw4cCAjIyPZvXv36XUAAADOcQ+hUsrGJL+bZDRJTXJdkv+Y5LNJtid5JMkv1FqPlpXb+nwiyVuTHEvyK7XWB1/o++0hBAAAAHBhXYg9hD6R5P+ptb4hyX+Z5ECS30hyX631x5Lc13mdJNcm+bHOnw8m+Z2XMTsAAAAAF9iLBqFSyoYkP5NkX5LUWk/WWp9K8o4kd3TedkeSd3aevyPJP60r/jTJxlLKay745AAAAAC8JOdyhtCPJjmc5PdKKV8rpfxuKWVdkstqrU903vOXSS7rPH9tkkdXff5QZ+0MpZQPllJmSymzhw8ffum/AQAAAADn5VyC0ECSn0jyO7XWq5PM5bnLw5IkdWUjohffjOjMz3y61jpWax3bsmXL+XwUAAAAgJfhXILQoSSHaq1f7bz+XFYC0XdOXQrWeXyyc/yxJJev+vy2zhoAAAAAXeBFg1Ct9S+TPFpK+c86S29O8o0k9yR5X2ftfUn+sPP8niS/XFb8VJKnV11aBgAAAEDDBs7xfRNJPlNKuSjJXyT51azEpN8vpYwnOZjkFzrv/aOs3HL+4azcdv5XL+jEAAAAALws5xSEaq1fT3K2+9a/+SzvrUl+7WXOBQAAAMAr5Fz2EAIAAACghwhCAAAAAC0jCAEAAAC0jCAEAAAA0DKCEAAAAEDLCEIAAAAALSMIAQAAALSMIAT0nKmpqYyOjqa/vz+jo6OZmppqeiQAAICuMtD0AAAX0tTUVCYnJ7Nv375cc801mZmZyfj4eJJk586dDU8HAADQHUqttekZMjY2VmdnZ5seA+gBo6Oj2bNnT3bs2HF6bXp6OhMTE9m/f3+DkwEAAKytUsoDtdaxsx4ThIBe0t/fn/n5+QwODp5eW1hYyPDwcJaWlhqcDAAAYG29UBCyhxDQU0ZGRjIzM3PG2szMTEZGRhqaCAAAoPsIQkBPmZyczPj4eKanp7OwsJDp6emMj49ncnKy6dEAAAC6hk2lgZ5yauPoiYmJHDhwICMjI9m9e7cNpQEAAFZxhhAAAABAyzhDCOgpbjsPAADw4txlDOgpbjsPAACwwl3GgNY4cOBA7rrrrgwPD6eUkuHh4dx11105cOBA06MBAAB0DUEI6CkbN27Mpz71qdx0002Zm5vLTTfdlE996lPZuHFj06MBAAB0DUEI6CnPPPNMNm7cmKuvvjqDg4O5+uqrs3HjxjzzzDNNjwYAANA1BCGgpywuLubWW2/NxMREhoeHMzExkVtvvTWLi4tNjwYAANA1BCGgpwwNDeXIkSPZv39/lpaWsn///hw5ciRDQ0NNjwYAANA13HYe6Ckf+MAHcuONNyZJdu3alb179+bGG2/Mrl27Gp4MAACge7jtPNBz3vKWt+SLX/xiaq0ppeTnfu7ncu+99zY9FgAAwJpy23mgNaampvLQQw/lvvvuy8mTJ3PffffloYceytTUVNOjAQAAdA1nCAE9ZXR0NO985zvzB3/wBzlw4EBGRkZOv96/f3/T4wEAAKyZFzpDyB5CQE/5xje+kSeffDLr1q1LrTVzc3P59Kc/nb/6q79qejQAAICu4ZIxoKf09/dncXExt99+e06cOJHbb789i4uL6e/vb3o0AACAriEIAT1lcXHxe24xPzQ0lMXFxYYmAgAA6D6CENBz3vjGN+baa6/NRRddlGuvvTZvfOMbmx4JAACgqwhCQE/ZvHlzPv/5z+emm27K3Nxcbrrppnz+85/P5s2bmx4NAACgawhCQE+5+OKLs379+uzZsyeXXHJJ9uzZk/Xr1+fiiy9uejQAAICuIQgBPeXxxx/Pe9/73jzxxBNZXl7OE088kfe+9715/PHHmx4NAACgawhCQE/ZunVr7r777nzhC1/IyZMn84UvfCF33313tm7d2vRoAAAAXUMQAnpOKeUFXwMAALSdIAT0lMcffzw333xzJiYmMjw8nImJidx8880uGQMAAFhloOkBAC6kkZGRbNu2Lfv37z+9Nj09nZGRkQanAgAA6C6CENBTJicn8+53vzvr1q3LwYMHc8UVV2Rubi6f+MQnmh4NAACgawhCQM+Zn5/PU089lVprHnvssQwPDzc9EgAAQFexhxDQU2644YasX78+9957b06ePJl7770369evzw033ND0aAAAAF1DEAJ6yqFDh3LHHXdkx44dGRwczI4dO3LHHXfk0KFDTY8GAADQNQQhoOdMT09ndHQ0/f39GR0dzfT0dNMjAQAAdBVBCOgpmzdvzi233JLrrrsuzz77bK677rrccsst2bx5c9OjAQAAdI1Sa216hoyNjdXZ2dmmxwB6wOWXX54nnngiS0tLp9f6+/vzmte8Jo8++miDkwEAAKytUsoDtdaxsx1zlzGgp5zaK6ivry/Ly8vp6+vL0tKSPYQAAABWcckY0HNe9apX5Utf+lJOnjyZL33pS3nVq17V9EgAAABdxRlCQM8ZHBzMddddl29/+9v5kR/5kQwODub48eNNjwUAANA1nCEE9JyTJ08mSU7tkXbqNQAAACsEIaCnlFIyPz+fa6+9NkePHs21116b+fn5lFKaHg0AAKBruMsY0FP6+voyNDSU+fn502vDw8M5ceJElpeXG5wMAABgbb3QXcacIQT0lCuvvDIf/vCHc9VVV6Wvry9XXXVVPvzhD+fKK69sejQAAICuIQgBPWVycjJ33nln9uzZk/n5+ezZsyd33nlnJicnmx4NAACga7jLGNBTdu7cmSSZmJjIgQMHMjIykt27d59eBwAAwBlCAAAAAK0jCAE9ZWpqKh/60IcyNzeXJJmbm8uHPvShTE1NNTwZAABA9xCEgJ5yww03ZGFh4Yy1hYWF3HDDDQ1NBAAA0H0EIaCnHDp0KLXWJDnj8dChQ02OBQAA0FUEIaDnLC4uvuBrAACAthOEgJ4zNzeXiYmJfPe7383ExMTp/YQAAABYIQgBPWfdunXZs2dP1q9fnz179mTdunVNjwQAANBVBCGg59Ra89hjj53xCAAAwHMGmh4A4ELavHlzjhw5cvr1wsJCFhYWsnnz5ganAgAA6C7OEAJ6yqn9gvr6+s54tI8QAADAc5whBPSUEydOZGBgIKWULC8vp7+/P319fTlx4kTTowEAAHQNZwgBPeeSSy7Jvffem5MnT+bee+/NJZdc0vRIAAAAXUUQAnrO888GcnYQAADAmVwyBvScY8eO5ed//ufz9NNPZ8OGDTl27FjTIwEAAHQVZwgBPWXbtm256KKLcvTo0SwvL+fo0aO56KKLsm3btqZHAwAA6BqCENBTbrnllmzYsCHbt29PKSXbt2/Phg0bcssttzQ9GgAAQNcQhICesnPnzlx99dU5ePBgaq05ePBgrr766uzcubPp0QAAALqGIAT0lImJiXz5y1/Oxz72sczNzeVjH/tYvvzlL2diYqLp0QAAALpGqbU2PUPGxsbq7Oxs02MAPWB4eDjvete78vWvfz0HDhzIyMhIfvzHfzyf+9znMj8/3/R4AAAAa6aU8kCtdexsx5whBPSUEydO5J577sk3v/nNLC8v55vf/Gbuuecet54HALrS1NRURkdH09/fn9HR0UxNTTU9EtASghDQc5599tls3rw5pZRs3rw5zz77bNMjAQB8j6mpqUxOTmbPnj2Zn5/Pnj17Mjk5KQoBa8IlY0BPKaV832Pd8PcdAMApo6Oj2bNnT3bs2HF6bXp6OhMTE9m/f3+DkwG94oUuGROEgJ5yKgiVUlJrPf2YCEIAQHfp7+/P/Px8BgcHT68tLCxkeHg4S0tLDU4G9Ap7CAGt0t/fn/vuuy8nT57Mfffdl/7+/qZHAgD4HiMjI5mZmTljbWZmJiMjIw1NBLSJIAT0nOXl5ezcuTNDQ0PZuXNnlpeXmx4JAOB7TE5OZnx8PNPT01lYWMj09HTGx8czOTnZ9GhACww0PQDAhVZrzXe+850kOf0IANBtdu7cmSSZmJjIgQMHMjIykt27d59eB3gl2UMI6Cnr16/P3NxcBgYGsri4ePpx3bp1+e53v9v0eAAAAGvGHkJAaxw7dizr1q3L4uJikpyOQceOHWt4MgAAgO4hCAE9pdaaoaGhbN++PX19fdm+fXuGhobcYQwAAGAVQQjoOcePH8/tt9+e+fn53H777Tl+/HjTIwEAAHQVQQjoOcePH89dd92VY8eO5a677hKEAAAAnsem0kBPKaVk+/bteeSRR06vnXrdDX/fAQAArBWbSgOtsXnz5hw8eDCXXXZZSim57LLLcvDgwWzevLnp0QAAALrGQNMDAFxotdZ85zvfSZLTjwAAADzHGUJATzly5EiSZNOmTWc8nloHAABAEAJ60Nve9rYcOXIktdYcOXIkb3vb25oeCQAAoKu4ZAzoOffee29KKadfDw4ONjgNAABA93GGENBzFhYWsn79+pRSsn79+iwsLDQ9EgAAQFcRhICedOzYsdRac+zYsaZHAQAA6DqCENCTlpeXz3gEAADgOYIQAAAAQMsIQkBPuuqqq3Lw4MFcddVVTY8CAADQddxlDOg5F198cf7sz/4sV1xxxenX9hICAAB4jjOEgJ5z7Nix3HrrrZmbm8utt94qBgEAADxPqbU2PUPGxsbq7Oxs02MAPaCUkiQZHh7O/Pz86cck6Ya/7wAAANZKKeWBWuvY2Y45QwjoSaci0KlHAAAAniMIAT1l27Zt6e/vP2Otv78/27Zta2giAACA7iMIAT3l1H5Bq/cQWr0OAACAPYSAHlNKyU/8xE/ka1/7WmqtKaXk6quvzoMPPmgPIQAAoFXsIQS0yoMPPpjLLrssfX19ueyyy/Lggw82PRIAAEBXEYSAnnT48OEsLy/n8OHDTY8CAADQdQQhoCctLS2d8QgAAMBzBCGgJ7361a9OX19fXv3qVzc9CgAAQNcRhICedP311+fZZ5/N9ddf3/QoAAAAXcddxoCeUkpJf3//GZeKnXrdDX/fAQAArBV3GQNao5SSpaWlbNq0KX19fdm0aVOWlpZSSml6NAAAgK4hCAE9ZdOmTUmSo0ePZnl5OUePHj1jHQAAAEEI6DFHjhw5r3UAAIA2OucgVErpL6V8rZTyLzuvf7SU8tVSysOllM+WUi7qrA91Xj/cOb79lRkd4OyGh4ezffv29PX1Zfv27RkeHm56JAAAgK5yPmcIfSjJgVWvb07y8Vrr65IcTTLeWR9PcrSz/vHO+wDWzPz8fA4dOpTl5eUcOnQo8/PzTY8EAADQVc4pCJVStiX575L8bud1SfKzST7XecsdSd7Zef6Ozut0jr+52M0VWGOLi4tnPAIAAPCccz1D6B8nuSHJcuf1Dyd5qtZ66n9pHUry2s7z1yZ5NEk6x5/uvP8MpZQPllJmSymzhw8ffonjA5zdqQ6tRwMAAHyvFw1CpZS3JXmy1vrAhfzBtdZP11rHaq1jW7ZsuZBfDZBa6xmPAAAAPGfgHN7z00neXkp5a5LhJD+U5BNJNpZSBjpnAW1L8ljn/Y8luTzJoVLKQJINSf76gk8OAAAAwEvyomcI1Vr/Qa11W611e5L3JPlyrfUXk0wneVfnbe9L8oed5/d0Xqdz/MvV/0UPAAAA0DXO5y5jz3djkl8vpTyclT2C9nXW9yX54c76ryf5jZc3IgAAAAAX0rlcMnZarfWPk/xx5/lfJHnjWd4zn+TvXIDZAF6yvr6+LC8vn34EAADgOS/nDCGArnUqAolBAAAA30sQAnpSf3//GY8AAAA8RxACetLS0tIZjwAAADxHEAIAAABoGUEI6EmllDMeAQAAeI4gBPSkXbt25amnnsquXbuaHgUAAKDrlFpr0zNkbGyszs7ONj0G0ANKKdmwYUOefvrp02unXnfD33cAAABrpZTyQK117GzHnCEE9Jynn346b3/723P48OG8/e1vPyMOAQAAkAw0PQDAK+Gee+7Jlk3/fusAABD0SURBVC1bmh4DAACgKzlDCAAAAKBlBCGgJ7nLGAAAwPcnCAE96dQG0jaSBgAA+F6CEAAAAEDLCEJATxoYGDjjEQAAgOcIQkBPWlxcPOMRAACA5whCAAAAAC0jCAEAAAC0jCAEAAAA0DKCEAAAAEDLCEIAAAAALSMIAQAAALSMIAQAAADQMoIQAAAAQMsIQgAAAAAtIwgBAAAAtIwgBAAA0JCpqamMjo6mv78/o6OjmZqaanokoCUGmh4AAACgjaampjI5OZl9+/blmmuuyczMTMbHx5MkO3fubHg6oNc5QwgAAKABu3fvzr59+7Jjx44MDg5mx44d2bdvX3bv3t30aEALlFpr0zNkbGyszs7ONj0G0ANKKd/3WDf8fQcAcEp/f3/m5+czODh4em1hYSHDw8NZWlpqcDKgV5RSHqi1jp3tmDOEAAAAGjAyMpKPfOQjZ+wh9JGPfCQjIyNNjwa0gCAEAADQgB07duTmm2/Oddddl2effTbXXXddbr755uzYsaPp0YAWEIQAAAAaMD09nRtvvDG33357Lrnkktx+++258cYbMz093fRoQAvYQwjoKfYQAgB+UNhDCHil2UMIAACgy4yMjGRmZuaMtZmZGXsIAWtCEAIAAGjA5ORkxsfHMz09nYWFhUxPT2d8fDyTk5NNjwa0wEDTAwAAALTRzp07kyQTExM5cOBARkZGsnv37tPrAK8kewgBPcUeQgAAACvsIQQAAADAaYIQAAAAQMsIQgAAAA2ZmJjI8PBwSikZHh7OxMRE0yMBLSEIAQAANGBiYiK33XZbNm7cmCTZuHFjbrvtNlEIWBOCEAAAQAP27t2bDRs2ZGpqKidPnszU1FQ2bNiQvXv3Nj0a0AKCEAAAQAMWFxfzmc98Jjt27Mjg4GB27NiRz3zmM1lcXGx6NKAFBCEAAICGfPSjHz1jD6GPfvSjTY8EtIQgBAAA0IChoaHcf//9ectb3pLDhw/nLW95S+6///4MDQ01PRrQAgNNDwAAANBGS0tLGRoayhe+8IVs2bIlg4ODGRoaytLSUtOjAS3gDCEAAIAGLC4uZu/evXn961+fvr6+vP71r8/evXvtIQSsCUEIAACgAUNDQzly5Ej279+fpaWl7N+/P0eOHHHJGLAmXDIGAADQgA984AO58cYbkyS7du3K3r17c+ONN2bXrl0NTwa0gSAEAADQgD179iRJfvM3fzMf/vCHMzQ0lF27dp1eB3gllVpr0zNkbGyszs7ONj0G0ANKKd/3WDf8fQcAALBWSikP1FrHznbMHkIAAAANmZiYyPDwcEopGR4ezsTERNMjAS0hCAEAADRgYmIit912WzZt2pS+vr5s2rQpt912mygErAlBCAAAoAF79+7Nxo0bc+edd2Z+fj533nlnNm7cmL179zY9GtACghAAAEADFhcX8/73v//0ZWMTExN5//vfn8XFxaZHA1pAEAIAAGjIJz/5yczNzaXWmrm5uXzyk59seiSgJQQhAACABpRSMjc3l2uvvTZHjx7Ntddem7m5uRe8ayrAheK280BPcdt5AOAHRSkl/f39WVpaOr126rV/twAXgtvOAwAAdKGlpaX09/cnyffEIYBXkiAEAADQoC1btqSvry9btmxpehSgRQQhAACAhpRSUms9/cf+QcBaEYQAAAAasnXr1jz55JOptebJJ5/M1q1bmx4JaAlBCAAAoCGPPfZY1q1blyRZt25dHnvssYYnAtpCEAIAAGjQ8ePHz3gEWAuCEAAAQEMuvvji9PWt/M+yvr6+XHzxxQ1PBLSFIAQAANCQ599m3m3ngbUiCAEAADSglJITJ05k/fr16evry/r163PixAl3GgPWhCAEAADQgFO3mX/mmWeyvLycZ5555vRt6AFeaYIQAABAQ97znvfkDW94Q/r6+vKGN7wh73nPe5oeCWiJgaYHAAAAaKu77747S0tLWV5ezje/+c38+Z//edMjAS0hCAEAADRg3bp1mZubO32XsaWlpSwsLGTdunUNTwa0gUvGAAAAGnD8+PGUUrJly5YzHo8fP970aEALCEIAAAANWF5ezvXXX59LL700pZRceumluf7667O8vNz0aEALuGQMAACgIXfffXcefvjh1FrzjW98IydPnmx6JKAlnCEEAADQgIGBgTz00EN505velMcffzxvetOb8tBDD2VgwP9vD7zy/E0DAADQgMXFxSTJ/fffn61bt37POsAryRlCAAAAAC0jCAEAAAC0jCAEAAAA0DKCEAAAAEDLCEIAAAAALSMIAQAAALSMIAQAAADQMoIQAAAAQMsIQgAAAAAtIwgBAAAAtIwgBAAAANAyghAAAABAywhCAAAAAC0jCAEAAAC0jCAEAADQoOHh4TMeAdaCIAQAANCg+fn5Mx4B1oIgBAAAANAyghAAAABAywhCAAAAAC0jCAEAAAC0jCAEAADQoL6+vjMeAdaCv3EAAAAatLy8fMYjwFoQhAAAAABaRhACAABo0Pbt2/Pwww9n+/btTY8CtMhA0wMAAAC02SOPPJLXve51TY8BtIwzhAAAAABaRhACAAAAaBlBCAAAAKBlBCEAAACAlhGEAAAAAFpGEAIAAABoGUEIAAAAoGUEIQAAAICWEYQAAAAAWuZFg1Ap5fJSynQp5RullD8rpXyos765lPLFUspDncdNnfVSSvk/SykPl1L+XSnlJ17pXwIAAACAc3cuZwgtJvlwrfXKJD+V5NdKKVcm+Y0k99VafyzJfZ3XSXJtkh/r/Plgkt+54FMDAAAA8JK9aBCqtT5Ra32w8/zZJAeSvDbJO5Lc0XnbHUne2Xn+jiT/tK740yQbSymvueCTAwAAAPCSnNceQqWU7UmuTvLVJJfVWp/oHPrLJJd1nr82yaOrPnaos/b87/pgKWW2lDJ7+PDh8xwbAAAAgJfqnINQKWV9kn+e5H+stT6z+littSap5/ODa62frrWO1VrHtmzZcj4fBQAAAOBlOKcgVEoZzEoM+kyt9V90lr9z6lKwzuOTnfXHkly+6uPbOmsAAAAAdIFzuctYSbIvyYFa6/+x6tA9Sd7Xef6+JH+4av2XO3cb+6kkT6+6tAwAAACAhg2cw3t+OskvJfn3pZSvd9Z+M8n/luT3SynjSQ4m+YXOsT9K8tYkDyc5luRXL+jEAAAAALwsLxqEaq0zScr3Ofzms7y/Jvm1lzkXAAAAAK+Q87rLGAAAAAA/+AQhAAAAgJYRhAAAAABaRhACAAAAaBlBCAAAAKBlBCEAAACAlhGEAAAAAFpGEAIAAABoGUEIAAAAoGUEIQAAAICWEYQAAAAAWkYQAgAAAGgZQQgAAACgZQQhAAAAgJYRhAAAAABaRhACAAAAaBlBCAAAAKBlBCEAAACAlhGEAAAAAFpGEAIAAABoGUEIAAAAoGUEIQAAAICWEYQAAAAAWkYQAgAAAGgZQQgAAACgZQQhAAAAgJYRhAAAAABaRhACAAAAaBlBCAAAAKBlBCEAAACAlhGEAAAAAFpGEAIAAABoGUEIAAAAoGUEIQAAAICWEYQAAAAAWkYQAgAAAGgZQQgAAACgZQQhAAAAgJYRhAAAAABaRhACAAAAaBlBCAAAAKBlBCEAAACAlhGEAAAAAFpGEAIAAABoGUEIAAAAoGUEIQAAAICWEYQAAAAAWkYQAgAAAGiZgaYHAEiSUsoPzM+otV6Q7wEAAGiKIAR0hQsVWV4o+gg5AAAAK1wyBgAAANAyghDQU77fWUDODgIAAHiOS8aAnnMq/pRShCAAAICzcIYQAAAAQMsIQgAAAAAtIwgBAAAAtIwgBAAAANAyghAAAABAywhCAAAAAC0jCAEAAAC0jCAEAAAA0DKCEAAAAEDLCEIAAAAALSMIAQAAALSMIAQAAADQMoIQAAAAQMsIQgAAAAAtIwgBAAAAtIwgBAAAANAyghAAAABAywhCAAAAAC0jCAEAAAC0jCAEAAAA0DKCEAAAAEDLCEIAAAAALSMIAQAAALSMIAQAAADQMoIQAAAAQMsMND0AAADAD5JSyg/Mz6i1XpDvAXqPIAQAAHAeLlRkeaHoI+QArzSXjAEAAAC0jDOEgPO2efPmHD16tOkxzslanNL9cm3atClHjhxpegwAYI3VWs/6bxVnBwFrQRACztvRo0f9Q+UC+kGIVgDAK+PUv6lKKf59Bawpl4wBAAAAtIwgBAAAANAyghAAAABAywhCAAAAAC0jCAEAAAC0jCAEAAAA0DKCEAAAAEDLCEIAAAAALSMIAQAAALSMIAQAAADQMoIQAAAAQMsIQgAAAAAtIwgBAAAAtMxA0wMAP3jqb/1Q8g83ND1Gz6i/9UNNjwAAPWvz5s05evRo02Ock1JK0yO8qE2bNuXIkSNNjwFcAP9/e3fMYlcVhWH4WwStNBLQIsSMWogQbIRBC8HCSm201MJKSCVoaZfkD9jZBEwhiDZaWASshDQiarAwCUIQxIigYiBaibAsTBHEmGS8J3vm7OeBgbkzwz2ruhzeOXtvQQi4ZXXiSrp79BirUVXp46OnAIB1unz5svuWDdoL0Qq4OZaMAQAAAExGEAIAAACYjCAEAAAAMBlBCAAAAGAyghAAAADAZJwyBuyIEyY258CBA6NHAAAAJiMIAbdsrxzdWlV7ZlYAYBl9bH9y/J7RY6xGH9s/egRgQwQhAABgterEFf8g2qCqSh8fPQWwCfYQAgAAAJiMIAQAAAAwGUvGAACAVXMYxuY4DAPWQxACAABWa6/sH+QwDOB2s2QMAAAAYDKLBKGqeqaqvqmqi1X1xhLXAAAAAGBnNh6EqmpfkreSPJvkSJKXqurIpq8DAAAAwM4s8YTQ40kudve33f1HkveTPL/AdQAAAADYgSU2lT6U5PtrXl9K8sQ//6iqjiY5miRbW1sLjAHsJUud/rHE+9rwEQDm5r4FWINhp4x198kkJ5Nke3vbpxRMzs0KALBXuG8B1mCJJWM/JDl8zev7r/4MAAAAgF1giSD0eZKHq+qhqrozyYtJPlrgOgAAAADswMaXjHX3n1X1apKPk+xLcqq7z236OgAAAADszCJ7CHX36SSnl3hvAAAAAP6fJZaMAQAAALCLCUIAAAAAkxGEAAAAACYjCAEAAABMRhACAAAAmIwgBAAAADAZQQgAAABgMoIQAAAAwGQEIQAAAIDJCEIAAAAAkxGEAAAAACYjCAEAAABMRhACAAAAmIwgBAAAADAZQQgAAABgMoIQAAAAwGQEIQAAAIDJCEIAAAAAkxGEAAAAACZT3T16hlTVz0m+Gz0HsDr3Jvll9BAAADfBfQuwhAe6+75/+8WuCEIAS6iqL7p7e/QcAAA34r4FuN0sGQMAAACYjCAEAAAAMBlBCFizk6MHAAC4Se5bgNvKHkIAAAAAk/GEEAAAAMBkBCEAAACAyQhCwOpU1amq+qmqvh49CwDAf6mqw1X1SVWdr6pzVfXa6JmAOdhDCFidqnoqye9J3unuR0fPAwBwPVV1MMnB7j5bVXcn+TLJC919fvBowMp5QghYne4+k+TX0XMAANxId//Y3Wevfv9bkgtJDo2dCpiBIAQAALALVNWDSR5L8tnYSYAZCEIAAACDVdVdST5I8np3Xxk9D7B+ghAAAMBAVXVH/o5B73b3h6PnAeYgCAEAAAxSVZXk7SQXuvvN0fMA8xCEgNWpqveSfJrkkaq6VFWvjJ4JAOA6nkzycpKnq+qrq1/PjR4KWD/HzgMAAABMxhNCAAAAAJMRhAAAAAAmIwgBAAAATEYQAgAAAJiMIAQAAAAwGUEIAAAAYDKCEAAAAMBk/gLZezdlejaGCwAAAABJRU5ErkJggg==\n"
          },
          "metadata": {
            "needs_background": "light"
          }
        }
      ],
      "source": [
        "fig, ax = plt.subplots(figsize=(20, 10))\n",
        "ax.set_title('Number of Words')\n",
        "_ = ax.boxplot([reviews['review_text_cleaned_len'], reviews['review_text_cleaned_len_no_stopwords']], \n",
        "    showfliers=True)"
      ]
    },
    {
      "cell_type": "code",
      "execution_count": null,
      "id": "c6e16612",
      "metadata": {
        "id": "c6e16612"
      },
      "outputs": [],
      "source": [
        "DATA_PROCESSED_FOLDER = \"pro/data/processed\" \n",
        "if not os.path.exists(DATA_PROCESSED_FOLDER):\n",
        "    os.mkdir(DATA_PROCESSED_FOLDER)\n",
        "\n",
        "reviews[['original_index', 'review_text', 'review_text_cleaned', 'review_text_cleaned_len',\n",
        "         'review_text_cleaned_no_stopwords', 'review_text_cleaned_len_no_stopwords', 'polarity']].to_csv(f\"{DATA_PROCESSED_FOLDER}/buscape_reviews_full_dataset.csv\", index=False)"
      ]
    },
    {
      "cell_type": "code",
      "source": [
        "os.getcwd()"
      ],
      "metadata": {
        "id": "OLGexbMBBsSF",
        "outputId": "bafbde3a-ebed-45b3-980d-19dc6228ab7b",
        "colab": {
          "base_uri": "https://localhost:8080/",
          "height": 35
        }
      },
      "id": "OLGexbMBBsSF",
      "execution_count": 17,
      "outputs": [
        {
          "output_type": "execute_result",
          "data": {
            "text/plain": [
              "'/content'"
            ],
            "application/vnd.google.colaboratory.intrinsic+json": {
              "type": "string"
            }
          },
          "metadata": {},
          "execution_count": 17
        }
>>>>>>> 9f5959fac1b2cf4cb21a0dd83b3179d51fc34127
      ]
    }
  ],
  "metadata": {
    "kernelspec": {
      "display_name": "Python 3.8.10 ('.venv': venv)",
      "language": "python",
      "name": "python3"
    },
    "language_info": {
      "codemirror_mode": {
        "name": "ipython",
        "version": 3
      },
      "file_extension": ".py",
      "mimetype": "text/x-python",
      "name": "python",
      "nbconvert_exporter": "python",
      "pygments_lexer": "ipython3",
      "version": "3.8.10"
    },
    "vscode": {
      "interpreter": {
        "hash": "6d8fcf32222123c2bc016e08cf8007b014ada14ae08852eb2d821271c6218457"
      }
    },
    "colab": {
      "provenance": []
    }
  },
<<<<<<< HEAD
  {
   "cell_type": "code",
   "execution_count": 45,
   "id": "c6e16612",
   "metadata": {},
   "outputs": [],
   "source": [
    "ROOT_PATH = os.path.dirname(os.path.abspath(os.curdir))\n",
    "DATA_PROCESSED_PATH = os.path.join(ROOT_PATH, \"data\", \"processed\")\n",
    "if not os.path.exists(DATA_PROCESSED_PATH):\n",
    "    os.mkdirs(DATA_PROCESSED_PATH)\n",
    "  \n",
    "\n",
    "reviews[['original_index', 'review_text', 'review_text_cleaned', 'review_text_cleaned_len',\n",
    "         'review_text_cleaned_no_stopwords', 'review_text_cleaned_len_no_stopwords', 'polarity']].to_csv(f\"{DATA_PROCESSED_PATH}/buscape_reviews_full_dataset.csv\", index=False)"
   ]
  }
 ],
 "metadata": {
  "kernelspec": {
   "display_name": "Python 3.8.10 ('.venv': venv)",
   "language": "python",
   "name": "python3"
  },
  "language_info": {
   "codemirror_mode": {
    "name": "ipython",
    "version": 3
   },
   "file_extension": ".py",
   "mimetype": "text/x-python",
   "name": "python",
   "nbconvert_exporter": "python",
   "pygments_lexer": "ipython3",
   "version": "3.10.8"
  },
  "vscode": {
   "interpreter": {
    "hash": "6d8fcf32222123c2bc016e08cf8007b014ada14ae08852eb2d821271c6218457"
   }
  }
 },
 "nbformat": 4,
 "nbformat_minor": 5
}
=======
  "nbformat": 4,
  "nbformat_minor": 5
}
>>>>>>> 9f5959fac1b2cf4cb21a0dd83b3179d51fc34127
