{
  "cells": [
    {
      "cell_type": "markdown",
      "id": "0d30600e",
      "metadata": {
        "id": "0d30600e"
      },
      "source": [
        "# Exploratory Data Analysis\n",
        "In order to better understanding of the data we will be looking at throughout that project."
      ]
    },
    {
      "cell_type": "markdown",
      "id": "211a4d11",
      "metadata": {
        "id": "211a4d11"
      },
      "source": [
        "When we getting started an Exploratory Data Analisys (EDA), we should answer the next questions:\n",
        "\n",
        "1. Look at the number of rows and columns in the dataset. \n",
        "2. Check if there are missing values in any of the rows or columns.\n",
        "3. Check if any columns are of different data types than you would expect(e.g., numbers showing as strings)\n",
        "4. Check that each column is a variable, and each row is an individual.\n",
        "5. Build exploratory plots like bar charts, histograms, and scatterplots to better understand the data."
      ]
    },
    {
      "cell_type": "code",
      "execution_count": 17,
      "id": "5a351086",
      "metadata": {
        "colab": {
          "base_uri": "https://localhost:8080/"
        },
        "id": "5a351086",
        "outputId": "325b2933-1b38-48c0-b27e-8724e0964147"
      },
      "outputs": [
        {
          "output_type": "stream",
          "name": "stderr",
          "text": [
            "[nltk_data] Downloading package stopwords to /root/nltk_data...\n",
            "[nltk_data]   Package stopwords is already up-to-date!\n"
          ]
        }
      ],
      "source": [
        "# Required packages.\n",
        "import os\n",
        "import re\n",
        "import logging\n",
        "import string\n",
        "\n",
        "\n",
        "import nltk\n",
        "import matplotlib.pyplot as plt\n",
        "import pandas as pd\n",
        "\n",
        "nltk.download('stopwords')\n",
        "stopwords = nltk.corpus.stopwords.words('portuguese')\n",
        "\n",
        "%matplotlib inline\n",
        "logging.basicConfig(format=\"%(asctime)s - %(message)s\", level=logging.INFO)\n",
        "logging.info(\"Required packages installed.\")"
      ]
    },
    {
      "cell_type": "code",
      "execution_count": 18,
      "id": "6a96fb26",
      "metadata": {
        "id": "6a96fb26"
      },
      "outputs": [],
      "source": [
        "# Script constants.\n",
        "URL_SOURCE = \"https://raw.githubusercontent.com/gomesluiz/product-review-analytics/main/data/raw/buscape.csv\""
      ]
    },
    {
      "cell_type": "code",
      "execution_count": 19,
      "id": "1544ac6b",
      "metadata": {
        "id": "1544ac6b"
      },
      "outputs": [],
      "source": [
        "# Scripts Functions.\n",
        "def download_dataset(source) -> None:\n",
        "    \"\"\"Download data from a url.\n",
        "    \n",
        "    Args:\n",
        "        source (str): source data file\n",
        "        \n",
        "    Returns:\n",
        "        None\n",
        "    \"\"\"\n",
        "       \n",
        "    return pd.read_csv(source)\n",
        "\n",
        "def word_counter(text):\n",
        "    \"\"\" Word counter.\n",
        "    \"\"\"\n",
        "    return len(text.split())\n",
        "\n",
        "def clean_text(text):\n",
        "    \"\"\" Make text lowercase, remove text in square brackets, remove punctuation and \n",
        "        remove words containing numbers.\n",
        "    \n",
        "    Args:\n",
        "        text(str): string text to be cleaned.\n",
        "\n",
        "    Returns:\n",
        "        A cleaned text\n",
        "\n",
        "    \"\"\"\n",
        "    text = text.lower()\n",
        "    text = re.sub('\\[.*?\\]', '', text)\n",
        "    text = re.sub('[%s]' % re.escape(string.punctuation), '', text)\n",
        "    text = re.sub('\\w*\\d\\w*', '', text)\n",
        "    text = re.sub('[``\"\"...]', '', text)\n",
        "    text = re.sub('\\n', ' ', text)\n",
        "\n",
        "    return text"
      ]
    },
    {
      "cell_type": "code",
      "execution_count": 20,
      "id": "4baa25f9",
      "metadata": {
        "id": "4baa25f9"
      },
      "outputs": [],
      "source": [
        "reviews = download_dataset(URL_SOURCE)\n",
        "logging.info(f\"Dataset loaded from {URL_SOURCE}.\")"
      ]
    },
    {
      "cell_type": "markdown",
      "id": "d47e17e3",
      "metadata": {
        "id": "d47e17e3"
      },
      "source": [
        "### Question 1.\n",
        "How many rows and columns the dataset has?"
      ]
    },
    {
      "cell_type": "code",
      "execution_count": 21,
      "id": "6c9313f6",
      "metadata": {
        "id": "6c9313f6"
      },
      "outputs": [],
      "source": [
        "num_rows = reviews.shape[0]\n",
        "num_cols = reviews.shape[1]\n",
        "logging.info(f\"The dataset has {num_rows} rows and {num_cols} columns.\")"
      ]
    },
    {
      "cell_type": "markdown",
      "id": "f7adff7c",
      "metadata": {
        "id": "f7adff7c"
      },
      "source": [
        "### Question 2.\n",
        "1. Which columns had missing values?"
      ]
    },
    {
      "cell_type": "code",
      "execution_count": 22,
      "id": "11b90e48",
      "metadata": {
        "id": "11b90e48"
      },
      "outputs": [],
      "source": [
        "missing_cols = set(reviews.columns[reviews.isnull().sum() != 0])\n",
        "logging.info(missing_cols)"
      ]
    },
    {
      "cell_type": "markdown",
      "id": "5af8cc48",
      "metadata": {
        "id": "5af8cc48"
      },
      "source": [
        "2. Which columns have more than 20% of missing values?"
      ]
    },
    {
      "cell_type": "code",
      "execution_count": 23,
      "id": "a6cfc452",
      "metadata": {
        "id": "a6cfc452"
      },
      "outputs": [],
      "source": [
        "most_missing_cols = set(reviews.columns[reviews.isnull().mean() > 0.20])\n",
        "logging.info(most_missing_cols)"
      ]
    },
    {
      "cell_type": "markdown",
      "id": "09bbec01",
      "metadata": {
        "id": "09bbec01"
      },
      "source": [
        "### Question 3.\n",
        "Check if any columns are of different data types than you would expect(e.g., numbers showing as strings)\n"
      ]
    },
    {
      "cell_type": "code",
      "execution_count": 24,
      "id": "d3579550",
      "metadata": {
        "colab": {
          "base_uri": "https://localhost:8080/"
        },
        "id": "d3579550",
        "outputId": "b146c44e-725c-4ca4-8cdb-dfaf0fc63360"
      },
      "outputs": [
        {
          "output_type": "stream",
          "name": "stdout",
          "text": [
            "<class 'pandas.core.frame.DataFrame'>\n",
            "RangeIndex: 84991 entries, 0 to 84990\n",
            "Data columns (total 8 columns):\n",
            " #   Column                 Non-Null Count  Dtype  \n",
            "---  ------                 --------------  -----  \n",
            " 0   original_index         84991 non-null  object \n",
            " 1   review_text            84990 non-null  object \n",
            " 2   review_text_processed  84990 non-null  object \n",
            " 3   review_text_tokenized  84991 non-null  object \n",
            " 4   polarity               73627 non-null  float64\n",
            " 5   rating                 84991 non-null  int64  \n",
            " 6   kfold_polarity         84991 non-null  int64  \n",
            " 7   kfold_rating           84991 non-null  int64  \n",
            "dtypes: float64(1), int64(3), object(4)\n",
            "memory usage: 5.2+ MB\n"
          ]
        }
      ],
      "source": [
        "reviews.info()"
      ]
    },
    {
      "cell_type": "code",
      "execution_count": 25,
      "id": "982ea26c",
      "metadata": {
        "colab": {
          "base_uri": "https://localhost:8080/",
          "height": 617
        },
        "id": "982ea26c",
        "outputId": "9e74e197-820f-423d-ec40-b12c7f440b51"
      },
      "outputs": [
        {
          "output_type": "execute_result",
          "data": {
            "text/plain": [
              "<matplotlib.axes._subplots.AxesSubplot at 0x7f2ef9ed4280>"
            ]
          },
          "metadata": {},
          "execution_count": 25
        },
        {
          "output_type": "display_data",
          "data": {
            "text/plain": [
              "<Figure size 1440x720 with 1 Axes>"
            ],
            "image/png": "[encoded data removed]"
          },
          "metadata": {
            "needs_background": "light"
          }
        }
      ],
      "source": [
        "plt.figure(figsize=(20, 10))\n",
        "polarity_counts = reviews['polarity'].value_counts()\n",
        "polarity_counts.plot(kind=\"bar\")"
      ]
    },
    {
      "cell_type": "markdown",
      "id": "125823fb",
      "metadata": {
        "id": "125823fb"
      },
      "source": [
        "### Question 4.\n",
        "Text statistics on **review_text**."
      ]
    },
    {
      "cell_type": "code",
      "execution_count": 13,
      "id": "6055cba2",
      "metadata": {
        "id": "6055cba2"
      },
      "outputs": [],
      "source": [
        "reviews.dropna(subset=['review_text'], inplace=True)\n",
        "reviews.loc[:, ['review_text_cleaned']] = reviews['review_text'].apply(lambda x: clean_text(x))\n",
        "reviews.loc[:, ['review_text_cleaned_len']] = reviews['review_text_cleaned'].apply(word_counter)\n",
        "reviews.loc[:, ['review_text_cleaned_no_stopwords']] = reviews['review_text_cleaned'].apply(lambda x: ' '.join([word for word in x.split() if word not in (stopwords)]))\n",
        "reviews.loc[:, ['review_text_cleaned_len_no_stopwords']] = reviews['review_text_cleaned_no_stopwords'].apply(word_counter)"
      ]
    },
    {
      "cell_type": "code",
      "execution_count": 14,
      "id": "b9b7ca0c",
      "metadata": {
        "colab": {
          "base_uri": "https://localhost:8080/",
          "height": 607
        },
        "id": "b9b7ca0c",
        "outputId": "125f0945-1417-4c7f-a9aa-cd8fee01e746"
      },
      "outputs": [
        {
          "output_type": "display_data",
          "data": {
            "text/plain": [
              "<Figure size 1440x720 with 1 Axes>"
            ],
            "image/png": "[encoded data removed]"
          },
          "metadata": {
            "needs_background": "light"
          }
        }
      ],
      "source": [
        "fig, ax = plt.subplots(figsize=(20, 10))\n",
        "ax.set_title('Number of Words')\n",
        "_ = ax.boxplot([reviews['review_text_cleaned_len'], reviews['review_text_cleaned_len_no_stopwords']], \n",
        "    showfliers=True)"
      ]
    },
    {
      "cell_type": "code",
      "execution_count": 16,
      "id": "c6e16612",
      "metadata": {
        "id": "c6e16612"
      },
      "outputs": [],
      "source": [
        "DATA_ROOT_FOLDER = os.path.join(os.path.dirname(os.path.abspath(__name__)), \"data\")\n",
        "DATA_PROCESSED_FOLDER = os.path.join(DATA_ROOT_FOLDER, \"processed\")\n",
        "if not os.path.exists(DATA_PROCESSED_FOLDER):\n",
        "    os.makedirs(DATA_PROCESSED_FOLDER)\n",
        "\n",
        "reviews[['original_index', 'review_text', 'review_text_cleaned', 'review_text_cleaned_len',\n",
        "         'review_text_cleaned_no_stopwords', 'review_text_cleaned_len_no_stopwords', 'polarity']].to_csv(f\"{DATA_PROCESSED_FOLDER}/buscape_reviews_full_dataset.csv\", index=False)"
      ]
    }
  ],
  "metadata": {
    "colab": {
      "provenance": []
    },
    "kernelspec": {
      "display_name": "Python 3.11.0 ('.venv': venv)",
      "language": "python",
      "name": "python3"
    },
    "language_info": {
      "codemirror_mode": {
        "name": "ipython",
        "version": 3
      },
      "file_extension": ".py",
      "mimetype": "text/x-python",
      "name": "python",
      "nbconvert_exporter": "python",
      "pygments_lexer": "ipython3",
      "version": "3.11.0"
    },
    "vscode": {
      "interpreter": {
        "hash": "b3e3abac68f94272f161226caa91cb0afcf2ed56c9a55ddc000fcb95a11bcff5"
      }
    }
  },
  "nbformat": 4,
  "nbformat_minor": 5
}