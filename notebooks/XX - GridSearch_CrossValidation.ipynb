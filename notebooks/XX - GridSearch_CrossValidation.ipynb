{
 "cells": [
  {
   "cell_type": "code",
   "execution_count": 16,
   "metadata": {},
   "outputs": [],
   "source": [
    "import numpy as np\n",
    "from sklearn.model_selection import cross_val_score\n",
    "from sklearn import datasets\n",
    "from sklearn.neighbors import KNeighborsClassifier\n",
    "\n",
    "X, y = datasets.load_digits(return_X_y=True)\n",
    "\n",
    "knn_estimator = KNeighborsClassifier()\n",
    "knn_estimator_distributions = {\n",
    "    \"n_neighbors\": list(range(1, 31, 2)),\n",
    "    \"weights\": [\"uniform\", \"distance\"],\n",
    "}"
   ]
  },
  {
   "cell_type": "code",
   "execution_count": 18,
   "metadata": {},
   "outputs": [
    {
     "name": "stdout",
     "output_type": "stream",
     "text": [
      "0.96\n",
      "1\n"
     ]
    }
   ],
   "source": [
    "import numpy as np\n",
    "from sklearn.model_selection import GridSearchCV, cross_val_score\n",
    "\n",
    "clf = GridSearchCV(estimator=knn_estimator, param_grid=knn_estimator_distributions)\n",
    "clf.fit(X[:1000], y[:1000])\n",
    "print(clf.best_score_)\n",
    "print(clf.best_estimator_.n_neighbors)\n"
   ]
  },
  {
   "cell_type": "code",
   "execution_count": 19,
   "metadata": {},
   "outputs": [
    {
     "data": {
      "text/plain": [
       "array([0.99444444, 0.98055556, 0.99164345, 0.97771588, 0.98885794,\n",
       "       0.98333333, 0.99166667, 0.98607242, 0.98050139, 0.98607242,\n",
       "       0.98333333, 0.99444444, 0.99164345, 0.99164345, 0.98328691,\n",
       "       0.98333333, 0.99166667, 0.97493036, 0.98885794, 0.98607242,\n",
       "       0.98611111, 0.98333333, 0.98607242, 0.98885794, 0.99721448,\n",
       "       0.98333333, 0.98333333, 0.98328691, 0.98607242, 0.99164345,\n",
       "       0.98611111, 0.99166667, 0.99442897, 0.98607242, 0.98607242,\n",
       "       0.98611111, 0.98611111, 0.99721448, 0.98328691, 0.99442897,\n",
       "       0.98055556, 0.98333333, 0.98050139, 0.98328691, 0.98885794,\n",
       "       0.99166667, 0.98888889, 0.98885794, 0.98885794, 0.98607242])"
      ]
     },
     "execution_count": 19,
     "metadata": {},
     "output_type": "execute_result"
    }
   ],
   "source": [
    "from sklearn.model_selection import RepeatedKFold\n",
    "kf = RepeatedKFold(n_splits=5, n_repeats=10, random_state=20230123)\n",
    "cross_val_score(clf, X, y, cv=kf)"
   ]
  },
  {
   "cell_type": "code",
   "execution_count": 22,
   "metadata": {},
   "outputs": [
    {
     "name": "stdout",
     "output_type": "stream",
     "text": [
      "0.96\n",
      "1\n",
      "[0.96  0.96  0.953 0.955 0.938 0.949 0.935 0.941 0.934 0.935 0.93  0.933\n",
      " 0.929 0.933 0.925 0.932 0.926 0.93  0.927 0.931 0.923 0.927 0.92  0.925\n",
      " 0.917 0.923 0.914 0.92  0.909 0.918]\n"
     ]
    }
   ],
   "source": [
    "clf = GridSearchCV(estimator=knn_estimator, param_grid=knn_estimator_distributions)\n",
    "clf.fit(X[:1000], y[:1000])\n",
    "print(clf.best_score_)\n",
    "print(clf.best_estimator_.n_neighbors)\n",
    "print(clf.cv_results_[\"mean_test_score\"])\n"
   ]
  }
 ],
 "metadata": {
  "kernelspec": {
   "display_name": ".venv",
   "language": "python",
   "name": "python3"
  },
  "language_info": {
   "codemirror_mode": {
    "name": "ipython",
    "version": 3
   },
   "file_extension": ".py",
   "mimetype": "text/x-python",
   "name": "python",
   "nbconvert_exporter": "python",
   "pygments_lexer": "ipython3",
   "version": "3.10.6"
  },
  "orig_nbformat": 4,
  "vscode": {
   "interpreter": {
    "hash": "6d8fcf32222123c2bc016e08cf8007b014ada14ae08852eb2d821271c6218457"
   }
  }
 },
 "nbformat": 4,
 "nbformat_minor": 2
}
