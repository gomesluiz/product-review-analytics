{
 "cells": [
  {
   "cell_type": "markdown",
   "metadata": {},
   "source": [
    "# Feature Engineering"
   ]
  },
  {
   "cell_type": "code",
   "execution_count": 1,
   "metadata": {},
   "outputs": [
    {
     "name": "stderr",
     "output_type": "stream",
     "text": [
      "[nltk_data] Downloading package stopwords to\n",
      "[nltk_data]     /home/gomesluiz/nltk_data...\n",
      "[nltk_data]   Package stopwords is already up-to-date!\n",
      "2022-11-21 20:01:38,176 - Required packages installed.\n"
     ]
    }
   ],
   "source": [
    "import logging\n",
    "import os\n",
    "\n",
    "import matplotlib.pyplot as plt\n",
    "import nltk\n",
    "import numpy as np\n",
    "import pandas as pd\n",
    "from gensim.models import KeyedVectors\n",
    "from sklearn.feature_extraction.text import CountVectorizer, TfidfVectorizer\n",
    "\n",
    "nltk.download(\"stopwords\")\n",
    "stopwords = nltk.corpus.stopwords.words(\"portuguese\")\n",
    "\n",
    "RANDOM_SEED = 19730115\n",
    "NUMBER_OF_WORDS = 50\n",
    "rng = np.random.RandomState(RANDOM_SEED)\n",
    "\n",
    "logging.basicConfig(format=\"%(asctime)s - %(message)s\", level=logging.INFO)\n",
    "# 1591632\n",
    "logging.info(\"Required packages installed.\")\n"
   ]
  },
  {
   "cell_type": "code",
   "execution_count": 2,
   "metadata": {},
   "outputs": [],
   "source": [
    "def load_dataset(path, stratify=False):\n",
    "    \"\"\"Get the data from csv file\n",
    "\n",
    "    Args:\n",
    "        path(str): the file complete path. \n",
    "\n",
    "    Returns:\n",
    "        dataframe: A pandas dataframe.\n",
    "    \"\"\"\n",
    "    dataset = pd.read_csv(path)\n",
    "\n",
    "    if stratify:\n",
    "        dataset = dataset.groupby('polarity', group_keys=False).apply(\n",
    "            lambda x: x.sample(frac=0.4))\n",
    "        dataset.reset_index(drop=True, inplace=True)\n",
    "\n",
    "    return dataset\n"
   ]
  },
  {
   "cell_type": "code",
   "execution_count": 3,
   "metadata": {},
   "outputs": [
    {
     "name": "stderr",
     "output_type": "stream",
     "text": [
      "2022-11-21 20:02:09,689 - Load the reviews datasets.\n"
     ]
    }
   ],
   "source": [
    "# Load the reviews datasets.\n",
    "logging.info(\"Load the reviews datasets.\")\n",
    "reviews_train_dataset = load_dataset(\n",
    "    \"../data/processed/buscape_reviews_train_dataset.csv\", True)\n",
    "reviews_test_dataset = load_dataset(\n",
    "    \"../data/processed/buscape_reviews_test_dataset.csv\", True)\n"
   ]
  },
  {
   "cell_type": "code",
   "execution_count": 4,
   "metadata": {},
   "outputs": [
    {
     "data": {
      "text/html": [
       "<div>\n",
       "<style scoped>\n",
       "    .dataframe tbody tr th:only-of-type {\n",
       "        vertical-align: middle;\n",
       "    }\n",
       "\n",
       "    .dataframe tbody tr th {\n",
       "        vertical-align: top;\n",
       "    }\n",
       "\n",
       "    .dataframe thead th {\n",
       "        text-align: right;\n",
       "    }\n",
       "</style>\n",
       "<table border=\"1\" class=\"dataframe\">\n",
       "  <thead>\n",
       "    <tr style=\"text-align: right;\">\n",
       "      <th></th>\n",
       "      <th>original_index</th>\n",
       "      <th>review_text</th>\n",
       "      <th>review_text_cleaned</th>\n",
       "      <th>review_text_cleaned_len</th>\n",
       "      <th>review_text_cleaned_no_stopwords</th>\n",
       "      <th>review_text_cleaned_len_no_stopwords</th>\n",
       "      <th>polarity</th>\n",
       "    </tr>\n",
       "  </thead>\n",
       "  <tbody>\n",
       "    <tr>\n",
       "      <th>0</th>\n",
       "      <td>3_391361</td>\n",
       "      <td>a samsung poderia imitar o midea em design mas...</td>\n",
       "      <td>a samsung poderia imitar o midea em design mas...</td>\n",
       "      <td>80</td>\n",
       "      <td>samsung poderia imitar midea design manter con...</td>\n",
       "      <td>46</td>\n",
       "      <td>-1</td>\n",
       "    </tr>\n",
       "    <tr>\n",
       "      <th>1</th>\n",
       "      <td>1_465330</td>\n",
       "      <td>A roupa sai manchada de sabão em pó. Já rasgou...</td>\n",
       "      <td>a roupa sai manchada de sabão em pó já rasgou ...</td>\n",
       "      <td>39</td>\n",
       "      <td>roupa sai manchada sabão pó rasgou fronha toal...</td>\n",
       "      <td>23</td>\n",
       "      <td>-1</td>\n",
       "    </tr>\n",
       "    <tr>\n",
       "      <th>2</th>\n",
       "      <td>1_446986</td>\n",
       "      <td>Esta guitarra NÃO é compatível com Nintendo Wi...</td>\n",
       "      <td>esta guitarra não é compatível com nintendo wi...</td>\n",
       "      <td>30</td>\n",
       "      <td>guitarra compatível nintendo wii site reclamea...</td>\n",
       "      <td>16</td>\n",
       "      <td>-1</td>\n",
       "    </tr>\n",
       "    <tr>\n",
       "      <th>3</th>\n",
       "      <td>2_472925</td>\n",
       "      <td>Depois de 3 anos de uso leve (duas pessoas em ...</td>\n",
       "      <td>depois de  anos de uso leve duas pessoas em ca...</td>\n",
       "      <td>64</td>\n",
       "      <td>anos uso leve duas pessoas casa rolamentos que...</td>\n",
       "      <td>36</td>\n",
       "      <td>-1</td>\n",
       "    </tr>\n",
       "    <tr>\n",
       "      <th>4</th>\n",
       "      <td>0_40389</td>\n",
       "      <td>Nunca ouvi falar desse jogo a nao ser umas ima...</td>\n",
       "      <td>nunca ouvi falar desse jogo a nao ser umas ima...</td>\n",
       "      <td>23</td>\n",
       "      <td>nunca ouvi falar desse jogo nao umas imagens i...</td>\n",
       "      <td>15</td>\n",
       "      <td>-1</td>\n",
       "    </tr>\n",
       "  </tbody>\n",
       "</table>\n",
       "</div>"
      ],
      "text/plain": [
       "  original_index                                        review_text  \\\n",
       "0       3_391361  a samsung poderia imitar o midea em design mas...   \n",
       "1       1_465330  A roupa sai manchada de sabão em pó. Já rasgou...   \n",
       "2       1_446986  Esta guitarra NÃO é compatível com Nintendo Wi...   \n",
       "3       2_472925  Depois de 3 anos de uso leve (duas pessoas em ...   \n",
       "4        0_40389  Nunca ouvi falar desse jogo a nao ser umas ima...   \n",
       "\n",
       "                                 review_text_cleaned  review_text_cleaned_len  \\\n",
       "0  a samsung poderia imitar o midea em design mas...                       80   \n",
       "1  a roupa sai manchada de sabão em pó já rasgou ...                       39   \n",
       "2  esta guitarra não é compatível com nintendo wi...                       30   \n",
       "3  depois de  anos de uso leve duas pessoas em ca...                       64   \n",
       "4  nunca ouvi falar desse jogo a nao ser umas ima...                       23   \n",
       "\n",
       "                    review_text_cleaned_no_stopwords  \\\n",
       "0  samsung poderia imitar midea design manter con...   \n",
       "1  roupa sai manchada sabão pó rasgou fronha toal...   \n",
       "2  guitarra compatível nintendo wii site reclamea...   \n",
       "3  anos uso leve duas pessoas casa rolamentos que...   \n",
       "4  nunca ouvi falar desse jogo nao umas imagens i...   \n",
       "\n",
       "   review_text_cleaned_len_no_stopwords  polarity  \n",
       "0                                    46        -1  \n",
       "1                                    23        -1  \n",
       "2                                    16        -1  \n",
       "3                                    36        -1  \n",
       "4                                    15        -1  "
      ]
     },
     "execution_count": 4,
     "metadata": {},
     "output_type": "execute_result"
    }
   ],
   "source": [
    "reviews_train_dataset.head()\n"
   ]
  },
  {
   "cell_type": "code",
   "execution_count": 5,
   "metadata": {},
   "outputs": [
    {
     "data": {
      "text/plain": [
       "<AxesSubplot: title={'center': 'Polarity Distribution in Train'}>"
      ]
     },
     "execution_count": 5,
     "metadata": {},
     "output_type": "execute_result"
    },
    {
     "data": {
      "image/png": "[encoded data removed]",
      "text/plain": [
       "<Figure size 2000x1000 with 1 Axes>"
      ]
     },
     "metadata": {},
     "output_type": "display_data"
    }
   ],
   "source": [
    "plt.figure(figsize=(20, 10))\n",
    "plt.title('Polarity Distribution in Train')\n",
    "reviews_train_dataset['polarity'].value_counts().plot(kind='bar')\n"
   ]
  },
  {
   "cell_type": "code",
   "execution_count": 6,
   "metadata": {},
   "outputs": [
    {
     "name": "stdout",
     "output_type": "stream",
     "text": [
      "<class 'pandas.core.frame.DataFrame'>\n",
      "RangeIndex: 6785 entries, 0 to 6784\n",
      "Data columns (total 7 columns):\n",
      " #   Column                                Non-Null Count  Dtype \n",
      "---  ------                                --------------  ----- \n",
      " 0   original_index                        6785 non-null   object\n",
      " 1   review_text                           6785 non-null   object\n",
      " 2   review_text_cleaned                   6785 non-null   object\n",
      " 3   review_text_cleaned_len               6785 non-null   int64 \n",
      " 4   review_text_cleaned_no_stopwords      6785 non-null   object\n",
      " 5   review_text_cleaned_len_no_stopwords  6785 non-null   int64 \n",
      " 6   polarity                              6785 non-null   int64 \n",
      "dtypes: int64(3), object(4)\n",
      "memory usage: 371.2+ KB\n"
     ]
    }
   ],
   "source": [
    "reviews_test_dataset.info()\n"
   ]
  },
  {
   "cell_type": "code",
   "execution_count": null,
   "metadata": {},
   "outputs": [],
   "source": [
    "plt.figure(figsize=(20, 10))\n",
    "plt.title('Polarity Distribution in Test')\n",
    "reviews_test_dataset['polarity'].value_counts().plot(kind='bar')\n"
   ]
  },
  {
   "cell_type": "markdown",
   "metadata": {},
   "source": [
    "### Counter Vectorizer"
   ]
  },
  {
   "cell_type": "code",
   "execution_count": null,
   "metadata": {},
   "outputs": [],
   "source": [
    "cv = CountVectorizer(stop_words=stopwords, max_features=NUMBER_OF_WORDS)\n",
    "reviews_train_cv = cv.fit_transform(\n",
    "    reviews_train_dataset['review_text_cleaned_no_stopwords'])\n",
    "reviews_train_dtm_cv = pd.DataFrame(\n",
    "    reviews_train_cv.toarray(), columns=cv.get_feature_names_out())\n",
    "reviews_train_dtm_cv.index = reviews_train_dataset.index\n",
    "reviews_train_processed_cv = pd.concat([reviews_train_dataset[[\n",
    "                                       'original_index']], reviews_train_dtm_cv, reviews_train_dataset[['polarity']]], axis=1)\n",
    "logging.info(\n",
    "    f\"The counter vectorizer train matrix has {reviews_train_processed_cv.shape[0]} rows and {reviews_train_processed_cv.shape[1]} columns\")\n",
    "\n",
    "reviews_test_cv = cv.transform(\n",
    "    reviews_test_dataset['review_text_cleaned_no_stopwords'])\n",
    "reviews_test_dtm_cv = pd.DataFrame(\n",
    "    reviews_test_cv.toarray(), columns=cv.get_feature_names_out())\n",
    "reviews_test_dtm_cv.index = reviews_test_dataset.index\n",
    "reviews_test_processed_cv = pd.concat([reviews_test_dataset[[\n",
    "                                      'original_index']], reviews_test_dtm_cv, reviews_test_dataset[['polarity']]], axis=1)\n",
    "logging.info(\n",
    "    f\"The counter vectorizer test matrix has {reviews_test_processed_cv.shape[0]} rows and {reviews_test_processed_cv.shape[1]} columns\")\n"
   ]
  },
  {
   "cell_type": "code",
   "execution_count": null,
   "metadata": {},
   "outputs": [],
   "source": [
    "reviews_train_processed_cv.head(5)\n"
   ]
  },
  {
   "cell_type": "code",
   "execution_count": null,
   "metadata": {},
   "outputs": [],
   "source": [
    "reviews_test_processed_cv.head(5)\n"
   ]
  },
  {
   "cell_type": "code",
   "execution_count": null,
   "metadata": {},
   "outputs": [],
   "source": [
    "reviews_train_processed_cv.to_pickle(\n",
    "    f'../data/processed/buscape_reviews_train_dataset_cv_s{NUMBER_OF_WORDS}.pkl')\n",
    "reviews_test_processed_cv.to_pickle(\n",
    "    f'../data/processed/buscape_reviews_test_dataset_cv_s{NUMBER_OF_WORDS}.pkl')\n"
   ]
  },
  {
   "cell_type": "markdown",
   "metadata": {},
   "source": [
    "### TF-IDF Vectorizer"
   ]
  },
  {
   "cell_type": "code",
   "execution_count": null,
   "metadata": {},
   "outputs": [],
   "source": [
    "\n",
    "tv = TfidfVectorizer(stop_words=stopwords, max_features=50)\n",
    "reviews_train_tv = tv.fit_transform(reviews_train_dataset['review_text'])\n",
    "reviews_train_dtm_tv = pd.DataFrame(\n",
    "    reviews_train_tv.toarray(), columns=tv.get_feature_names_out())\n",
    "reviews_train_dtm_tv.index = reviews_train_dataset.index\n",
    "reviews_train_processed_tv = pd.concat([reviews_train_dataset[[\n",
    "                                       'original_index']], reviews_train_dtm_tv, reviews_train_dataset[['polarity']]], axis=1)\n",
    "logging.info(\n",
    "    f\"The tf-idf vectorizer train matrix has {reviews_train_processed_tv.shape[0]} rows and {reviews_train_processed_tv.shape[1]} columns\")\n",
    "\n",
    "reviews_test_tv = tv.transform(reviews_test_dataset['review_text'])\n",
    "reviews_test_dtm_tv = pd.DataFrame(\n",
    "    reviews_test_tv.toarray(), columns=tv.get_feature_names_out())\n",
    "reviews_test_dtm_tv.index = reviews_test_dataset.index\n",
    "reviews_test_processed_tv = pd.concat([reviews_test_dataset[[\n",
    "                                      'original_index']], reviews_test_dtm_tv, reviews_test_dataset[['polarity']]], axis=1)\n",
    "logging.info(\n",
    "    f\"The tf-idf vectorizer test matrix has {reviews_test_processed_tv.shape[0]} rows and {reviews_test_processed_tv.shape[1]} columns\")\n"
   ]
  },
  {
   "cell_type": "code",
   "execution_count": null,
   "metadata": {},
   "outputs": [],
   "source": [
    "reviews_train_processed_tv.head(5)\n"
   ]
  },
  {
   "cell_type": "code",
   "execution_count": null,
   "metadata": {},
   "outputs": [],
   "source": [
    "reviews_train_processed_tv.to_pickle(\n",
    "    f'../data/processed/buscape_reviews_train_dataset_tv_s{NUMBER_OF_WORDS}.pkl')\n",
    "reviews_test_processed_tv.to_pickle(\n",
    "    f'../data/processed/buscape_reviews_test_dataset_tv_s{NUMBER_OF_WORDS}.pkl')\n"
   ]
  },
  {
   "cell_type": "markdown",
   "metadata": {},
   "source": [
    "### Embedding Vectorizer"
   ]
  },
  {
   "cell_type": "code",
   "execution_count": null,
   "metadata": {},
   "outputs": [],
   "source": [
    "from io import BytesIO\n",
    "from urllib.request import urlopen\n",
    "from zipfile import ZipFile\n",
    "\n",
    "\n",
    "EMBEDDING_NAMES = [\n",
    "    [\"word2vec\", \"cbow_s50\"],\n",
    "    [\"word2vec\", \"skip_s50\"],\n",
    "    [\"fasttext\", \"cbow_s50\"],\n",
    "    [\"fasttext\", \"skip_s50\"],\n",
    "    [\"glove\", \"glove_s50\"],\n",
    "    [\"wang2vec\", \"cbow_s50\"],\n",
    "    [\"wang2vec\", \"skip_s50\"],\n",
    "]\n",
    "\n",
    "\n",
    "def download_extract(model, architecture):\n",
    "    url = f\"http://143.107.183.175:22980/download.php?file=embeddings/{model}/{architecture}.zip\"\n",
    "    out_folder_path = os.path.join(\"../data/embeddings/\", model)\n",
    "    out_file_path = os.path.join(out_folder_path, architecture)\n",
    "    logging.info(f\"Downloading: {model}_{architecture}\")\n",
    "    if not os.path.exists(out_file_path):\n",
    "        with urlopen(url) as response:\n",
    "            with ZipFile(BytesIO(response.read())) as in_file_zip:\n",
    "                in_file_zip.extractall(out_folder_path)\n",
    "\n",
    "\n",
    "for model, architecture in EMBEDDING_NAMES:\n",
    "    download_extract(model, architecture)\n"
   ]
  },
  {
   "cell_type": "code",
   "execution_count": null,
   "metadata": {},
   "outputs": [],
   "source": [
    "# Load the pre-trainned fast text embedding.\n",
    "logging.info(\"Load fast text embeddings.\")\n",
    "fasttext_cbow_s50 = KeyedVectors.load_word2vec_format(\n",
    "    \"../data/embeddings/fasttext/cbow_s50.txt\"\n",
    ")\n",
    "fasttext_skip_s50 = KeyedVectors.load_word2vec_format(\n",
    "    \"../data/embeddings/fasttext/skip_s50.txt\"\n",
    ")\n"
   ]
  },
  {
   "cell_type": "code",
   "execution_count": null,
   "metadata": {},
   "outputs": [],
   "source": [
    "# Load the pre-trainned glove embedding.\n",
    "logging.info(\"Load glove embeddings.\")\n",
    "glove_s50 = KeyedVectors.load_word2vec_format(\"../data/embeddings/glove/glove_s50.txt\")"
   ]
  },
  {
   "cell_type": "code",
   "execution_count": null,
   "metadata": {},
   "outputs": [
    {
     "ename": "",
     "evalue": "",
     "output_type": "error",
     "traceback": [
      "\u001b[1;31mThe Kernel crashed while executing code in the the current cell or a previous cell. Please review the code in the cell(s) to identify a possible cause of the failure. Click <a href='https://aka.ms/vscodeJupyterKernelCrash'>here</a> for more info. View Jupyter <a href='command:jupyter.viewOutput'>log</a> for further details."
     ]
    }
   ],
   "source": [
    "# Load the pre-trainned wang2vec embedding.\n",
    "logging.info(\"Load wang2vec embeddings.\")\n",
    "wang2vec_cbow_s50 = KeyedVectors.load_word2vec_format(\n",
    "    \"../data/embeddings/wang2vec/cbow_s50.txt\"\n",
    ")\n",
    "wang2vec_skip_s50 = KeyedVectors.load_word2vec_format(\n",
    "    \"../data/embeddings/wang2vec/skip_s50.txt\"\n",
    ")"
   ]
  },
  {
   "cell_type": "code",
   "execution_count": null,
   "metadata": {},
   "outputs": [],
   "source": [
    "# Load the pre-trainned word2vec embedding.\n",
    "logging.info(\"Load word2vec embeddings.\")\n",
    "word2vec_cbow_s50 = KeyedVectors.load_word2vec_format(\n",
    "    '../data/embeedings/word2vec_cbow_s50/cbow_s50.txt')\n",
    "word2vec_skip_s50 = KeyedVectors.load_word2vec_format(\n",
    "    '../data/embeedings/word2vec_skip_s50/skip_s50.txt')\n"
   ]
  },
  {
   "cell_type": "code",
   "execution_count": null,
   "metadata": {},
   "outputs": [],
   "source": [
    "# def text_to_bert(text)\n",
    "def text_to_embedding(text, model, vectorizer=None, vocab=None, size=50):\n",
    "    if not vectorizer:\n",
    "        raise Exception(\"The vectorizer parameter must not be None\")\n",
    "\n",
    "    transformed = vectorizer.transform(text)\n",
    "    vectorized = pd.DataFrame(transformed.toarray(\n",
    "    ), columns=vectorizer.get_feature_names_out())\n",
    "\n",
    "    embeedings = pd.DataFrame()\n",
    "    for i in range(vectorized.shape[0]):\n",
    "        sentence = np.zeros(size)\n",
    "        for word in vocab[vectorized.iloc[i, :] > 0]:\n",
    "            if model.get_index(word, default=-1) != -1:\n",
    "                sentence = sentence + model.get_vector(word)\n",
    "            else:\n",
    "                print(\"Out of Vocabulary\")\n",
    "\n",
    "        embeedings = pd.concat([embeedings, pd.DataFrame([sentence])])\n",
    "\n",
    "    return embeedings\n"
   ]
  },
  {
   "cell_type": "code",
   "execution_count": null,
   "metadata": {},
   "outputs": [],
   "source": [
    "embedding_models = [fasttext_cbow_s50, fasttext_skip_s50, glove_s50,\n",
    "                    wang2vec_cbow_s50, wang2vec_skip_s50, word2vec_cbow_s50, word2vec_skip_s50]\n",
    "\n",
    "for name, model in zip(EMBEDDING_NAMES, embedding_models):\n",
    "    reviews_train_dtm = text_to_embedding(\n",
    "        reviews_train_dataset['review_text'], model, tv, reviews_test_processed_tv.columns[1:-1], 50)\n",
    "    reviews_train_processed = pd.concat([reviews_train_dataset.reset_index()[['original_index']], reviews_train_dtm.reset_index(\n",
    "        drop=True), reviews_train_dataset.reset_index()[['polarity']]], axis=1, ignore_index=True)\n",
    "    reviews_train_processed.to_pickle(\n",
    "        f\"../data/processed/buscape_reviews_train_dataset_{name}.pkl\")\n",
    "    print(\n",
    "        f\"The {name} vectorizer train dataframe has {reviews_train_processed.shape[0]} rows and {reviews_train_processed.shape[1]} columns\")\n",
    "\n",
    "    reviews_test_dtm = text_to_embedding(\n",
    "        reviews_test_dataset['review_text'], model, tv, reviews_test_processed_tv.columns[1:-1], 50)\n",
    "    reviews_test_processed = pd.concat([reviews_test_dataset.reset_index()[['original_index']], reviews_test_dtm.reset_index(\n",
    "        drop=True), reviews_test_dataset.reset_index()[['polarity']]], axis=1, ignore_index=True)\n",
    "    reviews_test_processed.to_pickle(\n",
    "        f\"../data/processed/buscape_reviews_test_dataset_{name}.pkl\")\n",
    "    print(\n",
    "        f\"The {name} vectorizer test dataframe has {reviews_test_processed.shape[0]} rows and {reviews_test_processed.shape[1]} columns\")\n"
   ]
  },
  {
   "cell_type": "code",
   "execution_count": null,
   "metadata": {},
   "outputs": [],
   "source": [
    "import torch\n",
    "\n",
    "from transformers import AutoTokenizer\n",
    "from transformers import AutoModel\n",
    "\n",
    "model = AutoModel.from_pretrained(\"neuralmind/bert-base-portuguese-cased\")\n",
    "logging.info(f\"Transformers model class model: {type(model)}\")\n",
    "tokenizer = AutoTokenizer.from_pretrained(\n",
    "    \"neuralmind/bert-base-portuguese-cased\", do_lower_case=True\n",
    ")\n",
    "logging.info(f\"Transformers tokenizer class: {type(tokenizer)}\")\n",
    "\n",
    "\n",
    "def encode_sentences(sentences):\n",
    "    \"\"\"Encode a text sentence using BERT tokenizer.\n",
    "\n",
    "    Args:\n",
    "        sentence (str): sentence to tokenizer.\n",
    "\n",
    "    Returns:\n",
    "\n",
    "    \"\"\"\n",
    "\n",
    "    inputs_ids, attn_mask = [], []\n",
    "\n",
    "    # `encode_plus` will:\n",
    "    #   (1) Tokenize the sentence.\n",
    "    #   (2) Prepend the `[CLS]` token to the start.\n",
    "    #   (3) Append the `[SEP]` token to the end.\n",
    "    #   (4) Map tokens to their IDs.\n",
    "    #   (5) Pad or truncate the sentence to `max_length`\n",
    "    #   (6) Create attention masks for [PAD] tokens.\n",
    "\n",
    "    for sentence in sentences:\n",
    "        sentence_tokenized = tokenizer.encode_plus(\n",
    "            text=sentence,\n",
    "            add_special_tokens=True,\n",
    "            max_length=10,\n",
    "            padding=\"max_length\",\n",
    "            return_attention_mask=True,\n",
    "            return_tensors=\"pt\",\n",
    "        )\n",
    "\n",
    "        input_ids.append(sentence_tokenized[\"input_ids\"])\n",
    "        attn_mask.append(sentence_tokenized[\"attention_mask\"])\n",
    "\n",
    "    return torch.tensor(input_ids, dtype=torch.long), torch.tensor(attn_mask, dtype=torch.long)\n",
    "\n",
    "\n",
    "input_ids, attn_masks = encode_sentences(reviews_train_dataset['review_text'])\n",
    "with torch.no_grad():\n",
    "    outputs = model(input_ids, attn_masks)\n"
   ]
  },
  {
   "cell_type": "code",
   "execution_count": null,
   "metadata": {},
   "outputs": [],
   "source": [
    "def build_tensors(descriptions, tokenizer, max_tokens=128):\n",
    "    # tokenization.\n",
    "    sentences = descriptions['review_text_cleaned'].apply(\n",
    "        (lambda s: ' '.join(s.split()[:max_tokens])))\n",
    "    tokenized = sentences.apply(\n",
    "        (lambda s: tokenizer.encode(s, add_special_tokens=True, truncation=True)))\n",
    "\n",
    "    # padding\n",
    "    max_len = max_tokens\n",
    "    for i in tokenized.values:\n",
    "        if len(i) > max_len:\n",
    "            max_len = len(i)\n",
    "\n",
    "    padded = np.array([i + [0]*(max_len-len(i)) for i in tokenized.values])\n",
    "\n",
    "    # masking\n",
    "    attention_mask = np.where(padded != 0, 1, 0)\n",
    "\n",
    "    # model#1\n",
    "    input_ids = torch.tensor(padded)\n",
    "    attention_mask = torch.tensor(attention_mask)\n",
    "\n",
    "    return (input_ids, attention_mask)\n",
    "\n",
    "\n",
    "def extract_features(dataset, model, tokenizer):\n",
    "    \n",
    "    bug_ids = dataset['original_index']\n",
    "\n",
    "    input_ids, attention_mask = build_tensors(dataset, tokenizer)\n",
    "    with torch.no_grad():\n",
    "        last_hidden_states = model(input_ids, attention_mask=attention_mask)\n",
    "\n",
    "    features = last_hidden_states[0][:, 0, :].numpy()\n",
    "    \n",
    "    labels  = dataset['polarity']\n",
    "    \n",
    "    return (features, labels, bug_ids)\n"
   ]
  },
  {
   "cell_type": "code",
   "execution_count": null,
   "metadata": {},
   "outputs": [],
   "source": [
    "extract_features(reviews_test_dataset, model, tokenizer)\n"
   ]
  }
 ],
 "metadata": {
  "kernelspec": {
   "display_name": "Python 3.8.10 ('.venv': venv)",
   "language": "python",
   "name": "python3"
  },
  "language_info": {
   "codemirror_mode": {
    "name": "ipython",
    "version": 3
   },
   "file_extension": ".py",
   "mimetype": "text/x-python",
   "name": "python",
   "nbconvert_exporter": "python",
   "pygments_lexer": "ipython3",
   "version": "3.8.10"
  },
  "orig_nbformat": 4,
  "vscode": {
   "interpreter": {
    "hash": "6d8fcf32222123c2bc016e08cf8007b014ada14ae08852eb2d821271c6218457"
   }
  }
 },
 "nbformat": 4,
 "nbformat_minor": 2
}
